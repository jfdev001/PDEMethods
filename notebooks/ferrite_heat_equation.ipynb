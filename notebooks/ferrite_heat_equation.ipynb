{
 "cells": [
  {
   "cell_type": "markdown",
   "metadata": {},
   "source": [
    "# Heat Equation\n",
    "\n",
    "![](heat_square.png)\n",
    "\n",
    "*Figure 1*: Temperature field on the unit square with an internal uniform heat source\n",
    "solved with homogeneous Dirichlet boundary conditions on the boundary."
   ]
  },
  {
   "cell_type": "markdown",
   "metadata": {},
   "source": [
    "## Introduction\n",
    "\n",
    "The heat equation is the \"Hello, world!\" equation of finite elements.\n",
    "Here we solve the equation on a unit square, with a uniform internal source.\n",
    "The strong form of the (linear) heat equation is given by\n",
    "\n",
    "$$\n",
    " -\\nabla \\cdot (k \\nabla u) = f  \\quad \\textbf{x} \\in \\Omega,\n",
    "$$\n",
    "\n",
    "where $u$ is the unknown temperature field, $k$ the heat conductivity,\n",
    "$f$ the heat source and $\\Omega$ the domain. For simplicity we set $f = 1$\n",
    "and $k = 1$. We will consider homogeneous Dirichlet boundary conditions such that\n",
    "$$\n",
    "u(\\textbf{x}) = 0 \\quad \\textbf{x} \\in \\partial \\Omega,\n",
    "$$\n",
    "where $\\partial \\Omega$ denotes the boundary of $\\Omega$.\n",
    "The resulting weak form is given given as follows: Find $u \\in \\mathbb{U}$ such that\n",
    "$$\n",
    "\\int_{\\Omega} \\nabla \\delta u \\cdot \\nabla u \\ d\\Omega = \\int_{\\Omega} \\delta u \\ d\\Omega \\quad \\forall \\delta u \\in \\mathbb{T},\n",
    "$$\n",
    "where $\\delta u$ is a test function, and where $\\mathbb{U}$ and $\\mathbb{T}$ are suitable\n",
    "trial and test function sets, respectively."
   ]
  },
  {
   "cell_type": "markdown",
   "metadata": {},
   "source": [
    "## Commented Program\n",
    "\n",
    "Now we solve the problem in Ferrite. What follows is a program spliced with comments.\n",
    "\n",
    "First we load Ferrite, and some other packages we need"
   ]
  },
  {
   "cell_type": "code",
   "execution_count": 1,
   "metadata": {},
   "outputs": [],
   "source": [
    "using Ferrite, SparseArrays"
   ]
  },
  {
   "cell_type": "markdown",
   "metadata": {},
   "source": [
    "We start by generating a simple grid with 20x20 quadrilateral elements\n",
    "using `generate_grid`. The generator defaults to the unit square,\n",
    "so we don't need to specify the corners of the domain."
   ]
  },
  {
   "cell_type": "code",
   "execution_count": 2,
   "metadata": {},
   "outputs": [],
   "source": [
    "grid = generate_grid(Quadrilateral, (20, 20));"
   ]
  },
  {
   "cell_type": "markdown",
   "metadata": {},
   "source": [
    "### Trial and test functions\n",
    "A `CellValues` facilitates the process of evaluating values and gradients of\n",
    "test and trial functions (among other things). Since the problem\n",
    "is a scalar problem we will use a `CellScalarValues` object. To define\n",
    "this we need to specify an interpolation space for the shape functions.\n",
    "We use Lagrange functions (both for interpolating the function and the geometry)\n",
    "based on the two-dimensional reference \"cube\". We also define a quadrature rule based on\n",
    "the same reference cube. We combine the interpolation and the quadrature rule\n",
    "to a `CellScalarValues` object."
   ]
  },
  {
   "cell_type": "code",
   "execution_count": 3,
   "metadata": {},
   "outputs": [],
   "source": [
    "dim = 2\n",
    "ip = Lagrange{dim, RefCube, 1}()\n",
    "qr = QuadratureRule{dim, RefCube}(2)\n",
    "cellvalues = CellScalarValues(qr, ip);"
   ]
  },
  {
   "cell_type": "code",
   "execution_count": 20,
   "metadata": {},
   "outputs": [
    {
     "name": "stdout",
     "output_type": "stream",
     "text": [
      "search: \u001b[0m\u001b[1mC\u001b[22m\u001b[0m\u001b[1me\u001b[22m\u001b[0m\u001b[1ml\u001b[22m\u001b[0m\u001b[1ml\u001b[22m\u001b[0m\u001b[1mS\u001b[22m\u001b[0m\u001b[1mc\u001b[22m\u001b[0m\u001b[1ma\u001b[22m\u001b[0m\u001b[1ml\u001b[22m\u001b[0m\u001b[1ma\u001b[22m\u001b[0m\u001b[1mr\u001b[22m\u001b[0m\u001b[1mV\u001b[22m\u001b[0m\u001b[1ma\u001b[22m\u001b[0m\u001b[1ml\u001b[22m\u001b[0m\u001b[1mu\u001b[22m\u001b[0m\u001b[1me\u001b[22m\u001b[0m\u001b[1ms\u001b[22m\n",
      "\n"
     ]
    },
    {
     "data": {
      "text/latex": [
       "\\begin{verbatim}\n",
       "CellScalarValues([::Type{T}], quad_rule::QuadratureRule, func_interpol::Interpolation, [geom_interpol::Interpolation])\n",
       "CellVectorValues([::Type{T}], quad_rule::QuadratureRule, func_interpol::Interpolation, [geom_interpol::Interpolation])\n",
       "\\end{verbatim}\n",
       "A \\texttt{CellValues} object facilitates the process of evaluating values of shape functions, gradients of shape functions, values of nodal functions, gradients and divergences of nodal functions etc. in the finite element cell. There are two different types of \\texttt{CellValues}: \\texttt{CellScalarValues} and \\texttt{CellVectorValues}. As the names suggest, \\texttt{CellScalarValues} utilizes scalar shape functions and \\texttt{CellVectorValues} utilizes vectorial shape functions. For a scalar field, the \\texttt{CellScalarValues} type should be used. For vector field, both subtypes can be used.\n",
       "\n",
       "\\textbf{Arguments:}\n",
       "\n",
       "\\begin{itemize}\n",
       "\\item \\texttt{T}: an optional argument (default to \\texttt{Float64}) to determine the type the internal data is stored as.\n",
       "\n",
       "\n",
       "\\item \\texttt{quad\\_rule}: an instance of a \\href{@ref}{\\texttt{QuadratureRule}}\n",
       "\n",
       "\n",
       "\\item \\texttt{func\\_interpol}: an instance of an \\href{@ref}{\\texttt{Interpolation}} used to interpolate the approximated function\n",
       "\n",
       "\n",
       "\\item \\texttt{geom\\_interpol}: an optional instance of a \\href{@ref}{\\texttt{Interpolation}} which is used to interpolate the geometry\n",
       "\n",
       "\\end{itemize}\n",
       "\\textbf{Common methods:}\n",
       "\n",
       "\\begin{itemize}\n",
       "\\item \\href{@ref}{\\texttt{reinit!}}\n",
       "\n",
       "\n",
       "\\item \\href{@ref}{\\texttt{getnquadpoints}}\n",
       "\n",
       "\n",
       "\\item \\href{@ref}{\\texttt{getdetJdV}}\n",
       "\n",
       "\n",
       "\\item \\href{@ref}{\\texttt{shape\\_value}}\n",
       "\n",
       "\n",
       "\\item \\href{@ref}{\\texttt{shape\\_gradient}}\n",
       "\n",
       "\n",
       "\\item \\href{@ref}{\\texttt{shape\\_symmetric\\_gradient}}\n",
       "\n",
       "\n",
       "\\item \\href{@ref}{\\texttt{shape\\_divergence}}\n",
       "\n",
       "\n",
       "\\item \\href{@ref}{\\texttt{function\\_value}}\n",
       "\n",
       "\n",
       "\\item \\href{@ref}{\\texttt{function\\_gradient}}\n",
       "\n",
       "\n",
       "\\item \\href{@ref}{\\texttt{function\\_symmetric\\_gradient}}\n",
       "\n",
       "\n",
       "\\item \\href{@ref}{\\texttt{function\\_divergence}}\n",
       "\n",
       "\n",
       "\\item \\href{@ref}{\\texttt{spatial\\_coordinate}}\n",
       "\n",
       "\\end{itemize}\n"
      ],
      "text/markdown": [
       "```\n",
       "CellScalarValues([::Type{T}], quad_rule::QuadratureRule, func_interpol::Interpolation, [geom_interpol::Interpolation])\n",
       "CellVectorValues([::Type{T}], quad_rule::QuadratureRule, func_interpol::Interpolation, [geom_interpol::Interpolation])\n",
       "```\n",
       "\n",
       "A `CellValues` object facilitates the process of evaluating values of shape functions, gradients of shape functions, values of nodal functions, gradients and divergences of nodal functions etc. in the finite element cell. There are two different types of `CellValues`: `CellScalarValues` and `CellVectorValues`. As the names suggest, `CellScalarValues` utilizes scalar shape functions and `CellVectorValues` utilizes vectorial shape functions. For a scalar field, the `CellScalarValues` type should be used. For vector field, both subtypes can be used.\n",
       "\n",
       "**Arguments:**\n",
       "\n",
       "  * `T`: an optional argument (default to `Float64`) to determine the type the internal data is stored as.\n",
       "  * `quad_rule`: an instance of a [`QuadratureRule`](@ref)\n",
       "  * `func_interpol`: an instance of an [`Interpolation`](@ref) used to interpolate the approximated function\n",
       "  * `geom_interpol`: an optional instance of a [`Interpolation`](@ref) which is used to interpolate the geometry\n",
       "\n",
       "**Common methods:**\n",
       "\n",
       "  * [`reinit!`](@ref)\n",
       "  * [`getnquadpoints`](@ref)\n",
       "  * [`getdetJdV`](@ref)\n",
       "  * [`shape_value`](@ref)\n",
       "  * [`shape_gradient`](@ref)\n",
       "  * [`shape_symmetric_gradient`](@ref)\n",
       "  * [`shape_divergence`](@ref)\n",
       "  * [`function_value`](@ref)\n",
       "  * [`function_gradient`](@ref)\n",
       "  * [`function_symmetric_gradient`](@ref)\n",
       "  * [`function_divergence`](@ref)\n",
       "  * [`spatial_coordinate`](@ref)\n"
      ],
      "text/plain": [
       "\u001b[36m  CellScalarValues([::Type{T}], quad_rule::QuadratureRule, func_interpol::Interpolation, [geom_interpol::Interpolation])\u001b[39m\n",
       "\u001b[36m  CellVectorValues([::Type{T}], quad_rule::QuadratureRule, func_interpol::Interpolation, [geom_interpol::Interpolation])\u001b[39m\n",
       "\n",
       "  A \u001b[36mCellValues\u001b[39m object facilitates the process of evaluating values of shape\n",
       "  functions, gradients of shape functions, values of nodal functions,\n",
       "  gradients and divergences of nodal functions etc. in the finite element\n",
       "  cell. There are two different types of \u001b[36mCellValues\u001b[39m: \u001b[36mCellScalarValues\u001b[39m and\n",
       "  \u001b[36mCellVectorValues\u001b[39m. As the names suggest, \u001b[36mCellScalarValues\u001b[39m utilizes scalar\n",
       "  shape functions and \u001b[36mCellVectorValues\u001b[39m utilizes vectorial shape functions. For\n",
       "  a scalar field, the \u001b[36mCellScalarValues\u001b[39m type should be used. For vector field,\n",
       "  both subtypes can be used.\n",
       "\n",
       "  \u001b[1mArguments:\u001b[22m\n",
       "\n",
       "    •  \u001b[36mT\u001b[39m: an optional argument (default to \u001b[36mFloat64\u001b[39m) to determine the type\n",
       "       the internal data is stored as.\n",
       "\n",
       "    •  \u001b[36mquad_rule\u001b[39m: an instance of a \u001b[36mQuadratureRule\u001b[39m\n",
       "\n",
       "    •  \u001b[36mfunc_interpol\u001b[39m: an instance of an \u001b[36mInterpolation\u001b[39m used to interpolate\n",
       "       the approximated function\n",
       "\n",
       "    •  \u001b[36mgeom_interpol\u001b[39m: an optional instance of a \u001b[36mInterpolation\u001b[39m which is\n",
       "       used to interpolate the geometry\n",
       "\n",
       "  \u001b[1mCommon methods:\u001b[22m\n",
       "\n",
       "    •  \u001b[36mreinit!\u001b[39m\n",
       "\n",
       "    •  \u001b[36mgetnquadpoints\u001b[39m\n",
       "\n",
       "    •  \u001b[36mgetdetJdV\u001b[39m\n",
       "\n",
       "    •  \u001b[36mshape_value\u001b[39m\n",
       "\n",
       "    •  \u001b[36mshape_gradient\u001b[39m\n",
       "\n",
       "    •  \u001b[36mshape_symmetric_gradient\u001b[39m\n",
       "\n",
       "    •  \u001b[36mshape_divergence\u001b[39m\n",
       "\n",
       "    •  \u001b[36mfunction_value\u001b[39m\n",
       "\n",
       "    •  \u001b[36mfunction_gradient\u001b[39m\n",
       "\n",
       "    •  \u001b[36mfunction_symmetric_gradient\u001b[39m\n",
       "\n",
       "    •  \u001b[36mfunction_divergence\u001b[39m\n",
       "\n",
       "    •  \u001b[36mspatial_coordinate\u001b[39m"
      ]
     },
     "execution_count": 20,
     "metadata": {},
     "output_type": "execute_result"
    }
   ],
   "source": [
    "?CellScalarValues"
   ]
  },
  {
   "cell_type": "code",
   "execution_count": 17,
   "metadata": {},
   "outputs": [
    {
     "name": "stdout",
     "output_type": "stream",
     "text": [
      "search: \u001b[0m\u001b[1mL\u001b[22m\u001b[0m\u001b[1ma\u001b[22m\u001b[0m\u001b[1mg\u001b[22m\u001b[0m\u001b[1mr\u001b[22m\u001b[0m\u001b[1ma\u001b[22m\u001b[0m\u001b[1mn\u001b[22m\u001b[0m\u001b[1mg\u001b[22m\u001b[0m\u001b[1me\u001b[22m Discontinuous\u001b[0m\u001b[1mL\u001b[22m\u001b[0m\u001b[1ma\u001b[22m\u001b[0m\u001b[1mg\u001b[22m\u001b[0m\u001b[1mr\u001b[22m\u001b[0m\u001b[1ma\u001b[22m\u001b[0m\u001b[1mn\u001b[22m\u001b[0m\u001b[1mg\u001b[22m\u001b[0m\u001b[1me\u001b[22m Bubb\u001b[0m\u001b[1ml\u001b[22meEnrichedL\u001b[0m\u001b[1ma\u001b[22m\u001b[0m\u001b[1mg\u001b[22m\u001b[0m\u001b[1mr\u001b[22m\u001b[0m\u001b[1ma\u001b[22m\u001b[0m\u001b[1mn\u001b[22m\u001b[0m\u001b[1mg\u001b[22m\u001b[0m\u001b[1me\u001b[22m\n",
      "\n"
     ]
    },
    {
     "data": {
      "text/latex": [
       "No documentation found.\n",
       "\n",
       "\\section{Summary}\n",
       "\\begin{verbatim}\n",
       "struct Lagrange{dim, shape, order}\n",
       "\\end{verbatim}\n",
       "\\section{Supertype Hierarchy}\n",
       "\\begin{verbatim}\n",
       "Lagrange{dim, shape, order} <: Interpolation{dim, shape, order} <: Any\n",
       "\\end{verbatim}\n"
      ],
      "text/markdown": [
       "No documentation found.\n",
       "\n",
       "# Summary\n",
       "\n",
       "```\n",
       "struct Lagrange{dim, shape, order}\n",
       "```\n",
       "\n",
       "# Supertype Hierarchy\n",
       "\n",
       "```\n",
       "Lagrange{dim, shape, order} <: Interpolation{dim, shape, order} <: Any\n",
       "```\n"
      ],
      "text/plain": [
       "  No documentation found.\n",
       "\n",
       "\u001b[1m  Summary\u001b[22m\n",
       "\u001b[1m  ≡≡≡≡≡≡≡≡≡\u001b[22m\n",
       "\n",
       "\u001b[36m  struct Lagrange{dim, shape, order}\u001b[39m\n",
       "\n",
       "\u001b[1m  Supertype Hierarchy\u001b[22m\n",
       "\u001b[1m  ≡≡≡≡≡≡≡≡≡≡≡≡≡≡≡≡≡≡≡≡≡\u001b[22m\n",
       "\n",
       "\u001b[36m  Lagrange{dim, shape, order} <: Interpolation{dim, shape, order} <: Any\u001b[39m"
      ]
     },
     "execution_count": 17,
     "metadata": {},
     "output_type": "execute_result"
    }
   ],
   "source": [
    "?Lagrange"
   ]
  },
  {
   "cell_type": "code",
   "execution_count": 18,
   "metadata": {},
   "outputs": [
    {
     "name": "stdout",
     "output_type": "stream",
     "text": [
      "search: \u001b[0m\u001b[1mI\u001b[22m\u001b[0m\u001b[1mn\u001b[22m\u001b[0m\u001b[1mt\u001b[22m\u001b[0m\u001b[1me\u001b[22m\u001b[0m\u001b[1mr\u001b[22m\u001b[0m\u001b[1mp\u001b[22m\u001b[0m\u001b[1mo\u001b[22m\u001b[0m\u001b[1ml\u001b[22m\u001b[0m\u001b[1ma\u001b[22m\u001b[0m\u001b[1mt\u001b[22m\u001b[0m\u001b[1mi\u001b[22m\u001b[0m\u001b[1mo\u001b[22m\u001b[0m\u001b[1mn\u001b[22m\n",
      "\n"
     ]
    },
    {
     "data": {
      "text/latex": [
       "\\begin{verbatim}\n",
       "Interpolation{ref_dim, ref_shape, order}()\n",
       "\\end{verbatim}\n",
       "Return an \\texttt{Interpolation} on a \\texttt{ref\\_dim}-dimensional reference shape (see \\href{@ref}{\\texttt{AbstractRefShape}}) \\texttt{ref\\_shape} and order \\texttt{order}. \\texttt{order} corresponds to the order of the interpolation. The interpolation is used to define shape functions to interpolate a function between nodes.\n",
       "\n",
       "The following interpolations are implemented:\n",
       "\n",
       "\\begin{itemize}\n",
       "\\item \\texttt{Lagrange\\{1,RefCube,1\\}}\n",
       "\n",
       "\n",
       "\\item \\texttt{Lagrange\\{1,RefCube,2\\}}\n",
       "\n",
       "\n",
       "\\item \\texttt{Lagrange\\{2,RefCube,1\\}}\n",
       "\n",
       "\n",
       "\\item \\texttt{Lagrange\\{2,RefCube,2\\}}\n",
       "\n",
       "\n",
       "\\item \\texttt{Lagrange\\{2,RefTetrahedron,1\\}}\n",
       "\n",
       "\n",
       "\\item \\texttt{Lagrange\\{2,RefTetrahedron,2\\}}\n",
       "\n",
       "\n",
       "\\item \\texttt{Lagrange\\{2,RefTetrahedron,3\\}}\n",
       "\n",
       "\n",
       "\\item \\texttt{Lagrange\\{2,RefTetrahedron,4\\}}\n",
       "\n",
       "\n",
       "\\item \\texttt{Lagrange\\{2,RefTetrahedron,5\\}}\n",
       "\n",
       "\n",
       "\\item \\texttt{BubbleEnrichedLagrange\\{2,RefTetrahedron,1\\}}\n",
       "\n",
       "\n",
       "\\item \\texttt{CrouzeixRaviart\\{2,1\\}}\n",
       "\n",
       "\n",
       "\\item \\texttt{Lagrange\\{3,RefCube,1\\}}\n",
       "\n",
       "\n",
       "\\item \\texttt{Lagrange\\{3,RefCube,2\\}}\n",
       "\n",
       "\n",
       "\\item \\texttt{Lagrange\\{3,RefTetrahedron,1\\}}\n",
       "\n",
       "\n",
       "\\item \\texttt{Lagrange\\{3,RefTetrahedron,2\\}}\n",
       "\n",
       "\n",
       "\\item \\texttt{Lagrange\\{3,RefPrism,1\\}}\n",
       "\n",
       "\n",
       "\\item \\texttt{Lagrange\\{3,RefPrism,2\\}}\n",
       "\n",
       "\n",
       "\\item \\texttt{Serendipity\\{2,RefCube,2\\}}\n",
       "\n",
       "\n",
       "\\item \\texttt{Serendipity\\{3,RefCube,2\\}}\n",
       "\n",
       "\\end{itemize}\n",
       "\\section{Examples}\n",
       "\\begin{verbatim}\n",
       "julia> ip = Lagrange{2,RefTetrahedron,2}()\n",
       "Ferrite.Lagrange{2,Ferrite.RefTetrahedron,2}()\n",
       "\n",
       "julia> getnbasefunctions(ip)\n",
       "6\n",
       "\\end{verbatim}\n"
      ],
      "text/markdown": [
       "```\n",
       "Interpolation{ref_dim, ref_shape, order}()\n",
       "```\n",
       "\n",
       "Return an `Interpolation` on a `ref_dim`-dimensional reference shape (see [`AbstractRefShape`](@ref)) `ref_shape` and order `order`. `order` corresponds to the order of the interpolation. The interpolation is used to define shape functions to interpolate a function between nodes.\n",
       "\n",
       "The following interpolations are implemented:\n",
       "\n",
       "  * `Lagrange{1,RefCube,1}`\n",
       "  * `Lagrange{1,RefCube,2}`\n",
       "  * `Lagrange{2,RefCube,1}`\n",
       "  * `Lagrange{2,RefCube,2}`\n",
       "  * `Lagrange{2,RefTetrahedron,1}`\n",
       "  * `Lagrange{2,RefTetrahedron,2}`\n",
       "  * `Lagrange{2,RefTetrahedron,3}`\n",
       "  * `Lagrange{2,RefTetrahedron,4}`\n",
       "  * `Lagrange{2,RefTetrahedron,5}`\n",
       "  * `BubbleEnrichedLagrange{2,RefTetrahedron,1}`\n",
       "  * `CrouzeixRaviart{2,1}`\n",
       "  * `Lagrange{3,RefCube,1}`\n",
       "  * `Lagrange{3,RefCube,2}`\n",
       "  * `Lagrange{3,RefTetrahedron,1}`\n",
       "  * `Lagrange{3,RefTetrahedron,2}`\n",
       "  * `Lagrange{3,RefPrism,1}`\n",
       "  * `Lagrange{3,RefPrism,2}`\n",
       "  * `Serendipity{2,RefCube,2}`\n",
       "  * `Serendipity{3,RefCube,2}`\n",
       "\n",
       "# Examples\n",
       "\n",
       "```jldoctest\n",
       "julia> ip = Lagrange{2,RefTetrahedron,2}()\n",
       "Ferrite.Lagrange{2,Ferrite.RefTetrahedron,2}()\n",
       "\n",
       "julia> getnbasefunctions(ip)\n",
       "6\n",
       "```\n"
      ],
      "text/plain": [
       "\u001b[36m  Interpolation{ref_dim, ref_shape, order}()\u001b[39m\n",
       "\n",
       "  Return an \u001b[36mInterpolation\u001b[39m on a \u001b[36mref_dim\u001b[39m-dimensional reference shape (see\n",
       "  \u001b[36mAbstractRefShape\u001b[39m) \u001b[36mref_shape\u001b[39m and order \u001b[36morder\u001b[39m. \u001b[36morder\u001b[39m corresponds to the order\n",
       "  of the interpolation. The interpolation is used to define shape functions to\n",
       "  interpolate a function between nodes.\n",
       "\n",
       "  The following interpolations are implemented:\n",
       "\n",
       "    •  \u001b[36mLagrange{1,RefCube,1}\u001b[39m\n",
       "\n",
       "    •  \u001b[36mLagrange{1,RefCube,2}\u001b[39m\n",
       "\n",
       "    •  \u001b[36mLagrange{2,RefCube,1}\u001b[39m\n",
       "\n",
       "    •  \u001b[36mLagrange{2,RefCube,2}\u001b[39m\n",
       "\n",
       "    •  \u001b[36mLagrange{2,RefTetrahedron,1}\u001b[39m\n",
       "\n",
       "    •  \u001b[36mLagrange{2,RefTetrahedron,2}\u001b[39m\n",
       "\n",
       "    •  \u001b[36mLagrange{2,RefTetrahedron,3}\u001b[39m\n",
       "\n",
       "    •  \u001b[36mLagrange{2,RefTetrahedron,4}\u001b[39m\n",
       "\n",
       "    •  \u001b[36mLagrange{2,RefTetrahedron,5}\u001b[39m\n",
       "\n",
       "    •  \u001b[36mBubbleEnrichedLagrange{2,RefTetrahedron,1}\u001b[39m\n",
       "\n",
       "    •  \u001b[36mCrouzeixRaviart{2,1}\u001b[39m\n",
       "\n",
       "    •  \u001b[36mLagrange{3,RefCube,1}\u001b[39m\n",
       "\n",
       "    •  \u001b[36mLagrange{3,RefCube,2}\u001b[39m\n",
       "\n",
       "    •  \u001b[36mLagrange{3,RefTetrahedron,1}\u001b[39m\n",
       "\n",
       "    •  \u001b[36mLagrange{3,RefTetrahedron,2}\u001b[39m\n",
       "\n",
       "    •  \u001b[36mLagrange{3,RefPrism,1}\u001b[39m\n",
       "\n",
       "    •  \u001b[36mLagrange{3,RefPrism,2}\u001b[39m\n",
       "\n",
       "    •  \u001b[36mSerendipity{2,RefCube,2}\u001b[39m\n",
       "\n",
       "    •  \u001b[36mSerendipity{3,RefCube,2}\u001b[39m\n",
       "\n",
       "\u001b[1m  Examples\u001b[22m\n",
       "\u001b[1m  ≡≡≡≡≡≡≡≡≡≡\u001b[22m\n",
       "\n",
       "\u001b[36m  julia> ip = Lagrange{2,RefTetrahedron,2}()\u001b[39m\n",
       "\u001b[36m  Ferrite.Lagrange{2,Ferrite.RefTetrahedron,2}()\u001b[39m\n",
       "\u001b[36m  \u001b[39m\n",
       "\u001b[36m  julia> getnbasefunctions(ip)\u001b[39m\n",
       "\u001b[36m  6\u001b[39m"
      ]
     },
     "execution_count": 18,
     "metadata": {},
     "output_type": "execute_result"
    }
   ],
   "source": [
    "?Interpolation"
   ]
  },
  {
   "cell_type": "code",
   "execution_count": 16,
   "metadata": {},
   "outputs": [
    {
     "name": "stdout",
     "output_type": "stream",
     "text": [
      "search: \u001b[0m\u001b[1mQ\u001b[22m\u001b[0m\u001b[1mu\u001b[22m\u001b[0m\u001b[1ma\u001b[22m\u001b[0m\u001b[1md\u001b[22m\u001b[0m\u001b[1mr\u001b[22m\u001b[0m\u001b[1ma\u001b[22m\u001b[0m\u001b[1mt\u001b[22m\u001b[0m\u001b[1mu\u001b[22m\u001b[0m\u001b[1mr\u001b[22m\u001b[0m\u001b[1me\u001b[22m\u001b[0m\u001b[1mR\u001b[22m\u001b[0m\u001b[1mu\u001b[22m\u001b[0m\u001b[1ml\u001b[22m\u001b[0m\u001b[1me\u001b[22m \u001b[0m\u001b[1mQ\u001b[22m\u001b[0m\u001b[1mu\u001b[22m\u001b[0m\u001b[1ma\u001b[22m\u001b[0m\u001b[1md\u001b[22m\u001b[0m\u001b[1mr\u001b[22m\u001b[0m\u001b[1ma\u001b[22m\u001b[0m\u001b[1mt\u001b[22micQ\u001b[0m\u001b[1mu\u001b[22mad\u001b[0m\u001b[1mr\u001b[22milat\u001b[0m\u001b[1me\u001b[22m\u001b[0m\u001b[1mr\u001b[22mal\n",
      "\n"
     ]
    },
    {
     "data": {
      "text/latex": [
       "\\begin{verbatim}\n",
       "QuadratureRule{dim,shape}([quad_rule_type::Symbol], order::Int)\n",
       "\\end{verbatim}\n",
       "Create a \\texttt{QuadratureRule} used for integration. \\texttt{dim} is the space dimension, \\texttt{shape} an \\href{@ref}{\\texttt{AbstractRefShape}} and \\texttt{order} the order of the quadrature rule. \\texttt{quad\\_rule\\_type} is an optional argument determining the type of quadrature rule, currently the \\texttt{:legendre} and \\texttt{:lobatto} rules are implemented.\n",
       "\n",
       "A \\texttt{QuadratureRule} is used to approximate an integral on a domain by a weighted sum of function values at specific points:\n",
       "\n",
       "$\\int\\limits_\\Omega f(\\mathbf{x}) \\text{d} \\Omega \\approx \\sum\\limits_{q = 1}^{n_q} f(\\mathbf{x}_q) w_q$\n",
       "\n",
       "The quadrature rule consists of $n_q$ points in space $\\mathbf{x}_q$ with corresponding weights $w_q$.\n",
       "\n",
       "In \\texttt{Ferrite}, the \\texttt{QuadratureRule} type is mostly used as one of the components to create a \\href{@ref}{\\texttt{CellValues}} or \\href{@ref}{\\texttt{FaceValues}} object.\n",
       "\n",
       "\\textbf{Common methods:}\n",
       "\n",
       "\\begin{itemize}\n",
       "\\item \\href{@ref}{\\texttt{getpoints}} : the points of the quadrature rule\n",
       "\n",
       "\n",
       "\\item \\href{@ref}{\\texttt{getweights}} : the weights of the quadrature rule\n",
       "\n",
       "\\end{itemize}\n",
       "\\textbf{Example:}\n",
       "\n",
       "\\begin{verbatim}\n",
       "julia> QuadratureRule{2, RefTetrahedron}(1)\n",
       "Ferrite.QuadratureRule{2,Ferrite.RefTetrahedron,Float64}([0.5], Tensors.Tensor{1,2,Float64,2}[[0.333333, 0.333333]])\n",
       "\n",
       "julia> QuadratureRule{1, RefCube}(:lobatto, 2)\n",
       "Ferrite.QuadratureRule{1,Ferrite.RefCube,Float64}([1.0, 1.0], Tensors.Tensor{1,1,Float64,1}[[-1.0], [1.0]])\n",
       "\\end{verbatim}\n"
      ],
      "text/markdown": [
       "```\n",
       "QuadratureRule{dim,shape}([quad_rule_type::Symbol], order::Int)\n",
       "```\n",
       "\n",
       "Create a `QuadratureRule` used for integration. `dim` is the space dimension, `shape` an [`AbstractRefShape`](@ref) and `order` the order of the quadrature rule. `quad_rule_type` is an optional argument determining the type of quadrature rule, currently the `:legendre` and `:lobatto` rules are implemented.\n",
       "\n",
       "A `QuadratureRule` is used to approximate an integral on a domain by a weighted sum of function values at specific points:\n",
       "\n",
       "$\\int\\limits_\\Omega f(\\mathbf{x}) \\text{d} \\Omega \\approx \\sum\\limits_{q = 1}^{n_q} f(\\mathbf{x}_q) w_q$\n",
       "\n",
       "The quadrature rule consists of $n_q$ points in space $\\mathbf{x}_q$ with corresponding weights $w_q$.\n",
       "\n",
       "In `Ferrite`, the `QuadratureRule` type is mostly used as one of the components to create a [`CellValues`](@ref) or [`FaceValues`](@ref) object.\n",
       "\n",
       "**Common methods:**\n",
       "\n",
       "  * [`getpoints`](@ref) : the points of the quadrature rule\n",
       "  * [`getweights`](@ref) : the weights of the quadrature rule\n",
       "\n",
       "**Example:**\n",
       "\n",
       "```jldoctest\n",
       "julia> QuadratureRule{2, RefTetrahedron}(1)\n",
       "Ferrite.QuadratureRule{2,Ferrite.RefTetrahedron,Float64}([0.5], Tensors.Tensor{1,2,Float64,2}[[0.333333, 0.333333]])\n",
       "\n",
       "julia> QuadratureRule{1, RefCube}(:lobatto, 2)\n",
       "Ferrite.QuadratureRule{1,Ferrite.RefCube,Float64}([1.0, 1.0], Tensors.Tensor{1,1,Float64,1}[[-1.0], [1.0]])\n",
       "```\n"
      ],
      "text/plain": [
       "\u001b[36m  QuadratureRule{dim,shape}([quad_rule_type::Symbol], order::Int)\u001b[39m\n",
       "\n",
       "  Create a \u001b[36mQuadratureRule\u001b[39m used for integration. \u001b[36mdim\u001b[39m is the space dimension,\n",
       "  \u001b[36mshape\u001b[39m an \u001b[36mAbstractRefShape\u001b[39m and \u001b[36morder\u001b[39m the order of the quadrature rule.\n",
       "  \u001b[36mquad_rule_type\u001b[39m is an optional argument determining the type of quadrature\n",
       "  rule, currently the \u001b[36m:legendre\u001b[39m and \u001b[36m:lobatto\u001b[39m rules are implemented.\n",
       "\n",
       "  A \u001b[36mQuadratureRule\u001b[39m is used to approximate an integral on a domain by a\n",
       "  weighted sum of function values at specific points:\n",
       "\n",
       "  \u001b[35m\\int\\limits_\\Omega f(\\mathbf{x}) \\text{d} \\Omega \\approx \\sum\\limits_{q =\n",
       "  1}^{n_q} f(\\mathbf{x}_q) w_q\u001b[39m\n",
       "\n",
       "  The quadrature rule consists of \u001b[35mn_q\u001b[39m points in space \u001b[35m\\mathbf{x}_q\u001b[39m with\n",
       "  corresponding weights \u001b[35mw_q\u001b[39m.\n",
       "\n",
       "  In \u001b[36mFerrite\u001b[39m, the \u001b[36mQuadratureRule\u001b[39m type is mostly used as one of the components\n",
       "  to create a \u001b[36mCellValues\u001b[39m or \u001b[36mFaceValues\u001b[39m object.\n",
       "\n",
       "  \u001b[1mCommon methods:\u001b[22m\n",
       "\n",
       "    •  \u001b[36mgetpoints\u001b[39m : the points of the quadrature rule\n",
       "\n",
       "    •  \u001b[36mgetweights\u001b[39m : the weights of the quadrature rule\n",
       "\n",
       "  \u001b[1mExample:\u001b[22m\n",
       "\n",
       "\u001b[36m  julia> QuadratureRule{2, RefTetrahedron}(1)\u001b[39m\n",
       "\u001b[36m  Ferrite.QuadratureRule{2,Ferrite.RefTetrahedron,Float64}([0.5], Tensors.Tensor{1,2,Float64,2}[[0.333333, 0.333333]])\u001b[39m\n",
       "\u001b[36m  \u001b[39m\n",
       "\u001b[36m  julia> QuadratureRule{1, RefCube}(:lobatto, 2)\u001b[39m\n",
       "\u001b[36m  Ferrite.QuadratureRule{1,Ferrite.RefCube,Float64}([1.0, 1.0], Tensors.Tensor{1,1,Float64,1}[[-1.0], [1.0]])\u001b[39m"
      ]
     },
     "execution_count": 16,
     "metadata": {},
     "output_type": "execute_result"
    }
   ],
   "source": [
    "?QuadratureRule"
   ]
  },
  {
   "cell_type": "code",
   "execution_count": 5,
   "metadata": {},
   "outputs": [
    {
     "name": "stdout",
     "output_type": "stream",
     "text": [
      "search: \u001b[0m\u001b[1mi\u001b[22m\u001b[0m\u001b[1mp\u001b[22m z\u001b[0m\u001b[1mi\u001b[22m\u001b[0m\u001b[1mp\u001b[22m P\u001b[0m\u001b[1mi\u001b[22m\u001b[0m\u001b[1mp\u001b[22me p\u001b[0m\u001b[1mi\u001b[22m\u001b[0m\u001b[1mp\u001b[22meline P\u001b[0m\u001b[1mi\u001b[22m\u001b[0m\u001b[1mp\u001b[22meBuffer sk\u001b[0m\u001b[1mi\u001b[22m\u001b[0m\u001b[1mp\u001b[22m fl\u001b[0m\u001b[1mi\u001b[22m\u001b[0m\u001b[1mp\u001b[22msign sk\u001b[0m\u001b[1mi\u001b[22m\u001b[0m\u001b[1mp\u001b[22mchars cl\u001b[0m\u001b[1mi\u001b[22m\u001b[0m\u001b[1mp\u001b[22mboard\n",
      "\n"
     ]
    },
    {
     "data": {
      "text/latex": [
       "No documentation found.\n",
       "\n",
       "\\texttt{ip} is of type \\texttt{Lagrange\\{2, RefCube, 1\\}}.\n",
       "\n",
       "\\section{Summary}\n",
       "\\begin{verbatim}\n",
       "struct Lagrange{2, RefCube, 1}\n",
       "\\end{verbatim}\n",
       "\\section{Supertype Hierarchy}\n",
       "\\begin{verbatim}\n",
       "Lagrange{2, RefCube, 1} <: Interpolation{2, RefCube, 1} <: Any\n",
       "\\end{verbatim}\n"
      ],
      "text/markdown": [
       "No documentation found.\n",
       "\n",
       "`ip` is of type `Lagrange{2, RefCube, 1}`.\n",
       "\n",
       "# Summary\n",
       "\n",
       "```\n",
       "struct Lagrange{2, RefCube, 1}\n",
       "```\n",
       "\n",
       "# Supertype Hierarchy\n",
       "\n",
       "```\n",
       "Lagrange{2, RefCube, 1} <: Interpolation{2, RefCube, 1} <: Any\n",
       "```\n"
      ],
      "text/plain": [
       "  No documentation found.\n",
       "\n",
       "  \u001b[36mip\u001b[39m is of type \u001b[36mLagrange{2, RefCube, 1}\u001b[39m.\n",
       "\n",
       "\u001b[1m  Summary\u001b[22m\n",
       "\u001b[1m  ≡≡≡≡≡≡≡≡≡\u001b[22m\n",
       "\n",
       "\u001b[36m  struct Lagrange{2, RefCube, 1}\u001b[39m\n",
       "\n",
       "\u001b[1m  Supertype Hierarchy\u001b[22m\n",
       "\u001b[1m  ≡≡≡≡≡≡≡≡≡≡≡≡≡≡≡≡≡≡≡≡≡\u001b[22m\n",
       "\n",
       "\u001b[36m  Lagrange{2, RefCube, 1} <: Interpolation{2, RefCube, 1} <: Any\u001b[39m"
      ]
     },
     "execution_count": 5,
     "metadata": {},
     "output_type": "execute_result"
    }
   ],
   "source": [
    "?ip"
   ]
  },
  {
   "cell_type": "code",
   "execution_count": 6,
   "metadata": {},
   "outputs": [
    {
     "name": "stdout",
     "output_type": "stream",
     "text": [
      "search: \u001b[0m\u001b[1mq\u001b[22m\u001b[0m\u001b[1mr\u001b[22m s\u001b[0m\u001b[1mq\u001b[22m\u001b[0m\u001b[1mr\u001b[22mt is\u001b[0m\u001b[1mq\u001b[22m\u001b[0m\u001b[1mr\u001b[22mt \u001b[0m\u001b[1mQ\u001b[22muad\u001b[0m\u001b[1mr\u001b[22milateral \u001b[0m\u001b[1mQ\u001b[22muad\u001b[0m\u001b[1mr\u001b[22maticLine \u001b[0m\u001b[1mQ\u001b[22muad\u001b[0m\u001b[1mr\u001b[22matureRule \u001b[0m\u001b[1mQ\u001b[22muad\u001b[0m\u001b[1mr\u001b[22milateral3D\n",
      "\n"
     ]
    },
    {
     "data": {
      "text/latex": [
       "No documentation found.\n",
       "\n",
       "\\texttt{qr} is of type \\texttt{QuadratureRule\\{2, RefCube, Float64\\}}.\n",
       "\n",
       "\\section{Summary}\n",
       "\\begin{verbatim}\n",
       "struct QuadratureRule{2, RefCube, Float64}\n",
       "\\end{verbatim}\n",
       "\\section{Fields}\n",
       "\\begin{verbatim}\n",
       "weights :: Vector{Float64}\n",
       "points  :: Vector{Vec{2, Float64}}\n",
       "\\end{verbatim}\n"
      ],
      "text/markdown": [
       "No documentation found.\n",
       "\n",
       "`qr` is of type `QuadratureRule{2, RefCube, Float64}`.\n",
       "\n",
       "# Summary\n",
       "\n",
       "```\n",
       "struct QuadratureRule{2, RefCube, Float64}\n",
       "```\n",
       "\n",
       "# Fields\n",
       "\n",
       "```\n",
       "weights :: Vector{Float64}\n",
       "points  :: Vector{Vec{2, Float64}}\n",
       "```\n"
      ],
      "text/plain": [
       "  No documentation found.\n",
       "\n",
       "  \u001b[36mqr\u001b[39m is of type \u001b[36mQuadratureRule{2, RefCube, Float64}\u001b[39m.\n",
       "\n",
       "\u001b[1m  Summary\u001b[22m\n",
       "\u001b[1m  ≡≡≡≡≡≡≡≡≡\u001b[22m\n",
       "\n",
       "\u001b[36m  struct QuadratureRule{2, RefCube, Float64}\u001b[39m\n",
       "\n",
       "\u001b[1m  Fields\u001b[22m\n",
       "\u001b[1m  ≡≡≡≡≡≡≡≡\u001b[22m\n",
       "\n",
       "\u001b[36m  weights :: Vector{Float64}\u001b[39m\n",
       "\u001b[36m  points  :: Vector{Vec{2, Float64}}\u001b[39m"
      ]
     },
     "execution_count": 6,
     "metadata": {},
     "output_type": "execute_result"
    }
   ],
   "source": [
    "?qr"
   ]
  },
  {
   "cell_type": "markdown",
   "metadata": {},
   "source": [
    "### Degrees of freedom\n",
    "Next we need to define a `DofHandler`, which will take care of numbering\n",
    "and distribution of degrees of freedom for our approximated fields.\n",
    "We create the `DofHandler` and then add a single scalar field called `:u`.\n",
    "Lastly we `close!` the `DofHandler`, it is now that the dofs are distributed\n",
    "for all the elements."
   ]
  },
  {
   "cell_type": "code",
   "execution_count": 7,
   "metadata": {},
   "outputs": [],
   "source": [
    "dh = DofHandler(grid)\n",
    "add!(dh, :u, 1)\n",
    "close!(dh);"
   ]
  },
  {
   "cell_type": "markdown",
   "metadata": {},
   "source": [
    "Now that we have distributed all our dofs we can create our tangent matrix,\n",
    "using `create_sparsity_pattern`. This function returns a sparse matrix\n",
    "with the correct entries stored."
   ]
  },
  {
   "cell_type": "code",
   "execution_count": 8,
   "metadata": {},
   "outputs": [
    {
     "data": {
      "text/plain": [
       "441×441 SparseMatrixCSC{Float64, Int64} with 3721 stored entries:\n",
       "⎡⠻⣦⡀⠀⢧⠀⠀⠀⠀⠀⠀⠀⠀⠀⠀⠀⠀⠀⠀⠀⠀⠀⠀⠀⠀⠀⠀⠀⠀⠀⠀⠀⠀⠀⠀⠀⠀⠀⠀⠀⎤\n",
       "⎢⠀⠈⠻⣦⠈⢧⠀⠀⠀⠀⠀⠀⠀⠀⠀⠀⠀⠀⠀⠀⠀⠀⠀⠀⠀⠀⠀⠀⠀⠀⠀⠀⠀⠀⠀⠀⠀⠀⠀⠀⎥\n",
       "⎢⠉⠓⠦⣄⡻⣮⡳⣄⠀⠀⠀⠀⠀⠀⠀⠀⠀⠀⠀⠀⠀⠀⠀⠀⠀⠀⠀⠀⠀⠀⠀⠀⠀⠀⠀⠀⠀⠀⠀⠀⎥\n",
       "⎢⠀⠀⠀⠀⠙⢮⡻⣮⡳⣄⠀⠀⠀⠀⠀⠀⠀⠀⠀⠀⠀⠀⠀⠀⠀⠀⠀⠀⠀⠀⠀⠀⠀⠀⠀⠀⠀⠀⠀⠀⎥\n",
       "⎢⠀⠀⠀⠀⠀⠀⠙⢮⡻⣮⡳⣄⠀⠀⠀⠀⠀⠀⠀⠀⠀⠀⠀⠀⠀⠀⠀⠀⠀⠀⠀⠀⠀⠀⠀⠀⠀⠀⠀⠀⎥\n",
       "⎢⠀⠀⠀⠀⠀⠀⠀⠀⠙⢮⡻⢎⡳⣄⠀⠀⠀⠀⠀⠀⠀⠀⠀⠀⠀⠀⠀⠀⠀⠀⠀⠀⠀⠀⠀⠀⠀⠀⠀⠀⎥\n",
       "⎢⠀⠀⠀⠀⠀⠀⠀⠀⠀⠀⠙⢮⡻⣮⡳⣤⠀⠀⠀⠀⠀⠀⠀⠀⠀⠀⠀⠀⠀⠀⠀⠀⠀⠀⠀⠀⠀⠀⠀⠀⎥\n",
       "⎢⠀⠀⠀⠀⠀⠀⠀⠀⠀⠀⠀⠀⠙⣮⡻⣮⡳⣄⠀⠀⠀⠀⠀⠀⠀⠀⠀⠀⠀⠀⠀⠀⠀⠀⠀⠀⠀⠀⠀⠀⎥\n",
       "⎢⠀⠀⠀⠀⠀⠀⠀⠀⠀⠀⠀⠀⠀⠀⠙⢮⡻⣮⡳⣄⠀⠀⠀⠀⠀⠀⠀⠀⠀⠀⠀⠀⠀⠀⠀⠀⠀⠀⠀⠀⎥\n",
       "⎢⠀⠀⠀⠀⠀⠀⠀⠀⠀⠀⠀⠀⠀⠀⠀⠀⠙⢮⡻⣮⡳⣄⠀⠀⠀⠀⠀⠀⠀⠀⠀⠀⠀⠀⠀⠀⠀⠀⠀⠀⎥\n",
       "⎢⠀⠀⠀⠀⠀⠀⠀⠀⠀⠀⠀⠀⠀⠀⠀⠀⠀⠀⠙⢮⡻⣮⡳⣆⠀⠀⠀⠀⠀⠀⠀⠀⠀⠀⠀⠀⠀⠀⠀⠀⎥\n",
       "⎢⠀⠀⠀⠀⠀⠀⠀⠀⠀⠀⠀⠀⠀⠀⠀⠀⠀⠀⠀⠀⠹⢮⡻⣮⡳⣄⠀⠀⠀⠀⠀⠀⠀⠀⠀⠀⠀⠀⠀⠀⎥\n",
       "⎢⠀⠀⠀⠀⠀⠀⠀⠀⠀⠀⠀⠀⠀⠀⠀⠀⠀⠀⠀⠀⠀⠀⠙⢮⡻⣮⡳⣄⠀⠀⠀⠀⠀⠀⠀⠀⠀⠀⠀⠀⎥\n",
       "⎢⠀⠀⠀⠀⠀⠀⠀⠀⠀⠀⠀⠀⠀⠀⠀⠀⠀⠀⠀⠀⠀⠀⠀⠀⠙⢮⡻⣮⡳⣄⠀⠀⠀⠀⠀⠀⠀⠀⠀⠀⎥\n",
       "⎢⠀⠀⠀⠀⠀⠀⠀⠀⠀⠀⠀⠀⠀⠀⠀⠀⠀⠀⠀⠀⠀⠀⠀⠀⠀⠀⠙⢮⡱⣮⡳⣄⠀⠀⠀⠀⠀⠀⠀⠀⎥\n",
       "⎢⠀⠀⠀⠀⠀⠀⠀⠀⠀⠀⠀⠀⠀⠀⠀⠀⠀⠀⠀⠀⠀⠀⠀⠀⠀⠀⠀⠀⠙⢮⡻⣮⡳⣄⠀⠀⠀⠀⠀⠀⎥\n",
       "⎢⠀⠀⠀⠀⠀⠀⠀⠀⠀⠀⠀⠀⠀⠀⠀⠀⠀⠀⠀⠀⠀⠀⠀⠀⠀⠀⠀⠀⠀⠀⠙⢮⡻⣮⡳⣄⠀⠀⠀⠀⎥\n",
       "⎢⠀⠀⠀⠀⠀⠀⠀⠀⠀⠀⠀⠀⠀⠀⠀⠀⠀⠀⠀⠀⠀⠀⠀⠀⠀⠀⠀⠀⠀⠀⠀⠀⠙⢮⡻⣮⠳⣄⠀⠀⎥\n",
       "⎢⠀⠀⠀⠀⠀⠀⠀⠀⠀⠀⠀⠀⠀⠀⠀⠀⠀⠀⠀⠀⠀⠀⠀⠀⠀⠀⠀⠀⠀⠀⠀⠀⠀⠀⠙⢦⡻⣮⡳⣄⎥\n",
       "⎣⠀⠀⠀⠀⠀⠀⠀⠀⠀⠀⠀⠀⠀⠀⠀⠀⠀⠀⠀⠀⠀⠀⠀⠀⠀⠀⠀⠀⠀⠀⠀⠀⠀⠀⠀⠀⠙⢮⠻⣦⎦"
      ]
     },
     "execution_count": 8,
     "metadata": {},
     "output_type": "execute_result"
    }
   ],
   "source": [
    "K = create_sparsity_pattern(dh)"
   ]
  },
  {
   "cell_type": "markdown",
   "metadata": {},
   "source": [
    "### Boundary conditions\n",
    "In Ferrite constraints like Dirichlet boundary conditions\n",
    "are handled by a `ConstraintHandler`."
   ]
  },
  {
   "cell_type": "code",
   "execution_count": 9,
   "metadata": {},
   "outputs": [],
   "source": [
    "ch = ConstraintHandler(dh);"
   ]
  },
  {
   "cell_type": "markdown",
   "metadata": {},
   "source": [
    "Next we need to add constraints to `ch`. For this problem we define\n",
    "homogeneous Dirichlet boundary conditions on the whole boundary, i.e.\n",
    "the `union` of all the face sets on the boundary."
   ]
  },
  {
   "cell_type": "code",
   "execution_count": 10,
   "metadata": {},
   "outputs": [],
   "source": [
    "∂Ω = union(\n",
    "    getfaceset(grid, \"left\"),\n",
    "    getfaceset(grid, \"right\"),\n",
    "    getfaceset(grid, \"top\"),\n",
    "    getfaceset(grid, \"bottom\"),\n",
    ");"
   ]
  },
  {
   "cell_type": "markdown",
   "metadata": {},
   "source": [
    "Now we are set up to define our constraint. We specify which field\n",
    "the condition is for, and our combined face set `∂Ω`. The last\n",
    "argument is a function of the form $f(\\textbf{x})$ or $f(\\textbf{x}, t)$,\n",
    "where $\\textbf{x}$ is the spatial coordinate and\n",
    "$t$ the current time, and returns the prescribed value. Since the boundary condition in\n",
    "this case do not depend on time we define our function as $f(\\textbf{x}) = 0$, i.e.\n",
    "no matter what $\\textbf{x}$ we return $0$. When we have\n",
    "specified our constraint we `add!` it to `ch`."
   ]
  },
  {
   "cell_type": "code",
   "execution_count": 11,
   "metadata": {},
   "outputs": [],
   "source": [
    "dbc = Dirichlet(:u, ∂Ω, (x, t) -> 0)\n",
    "add!(ch, dbc);"
   ]
  },
  {
   "cell_type": "markdown",
   "metadata": {},
   "source": [
    "Finally we also need to `close!` our constraint handler. When we call `close!`\n",
    "the dofs corresponding to our constraints are calculated and stored\n",
    "in our `ch` object."
   ]
  },
  {
   "cell_type": "code",
   "execution_count": 12,
   "metadata": {},
   "outputs": [
    {
     "data": {
      "text/plain": [
       "ConstraintHandler:\n",
       "  BCs:\n",
       "    Field: u, Components: [1]"
      ]
     },
     "execution_count": 12,
     "metadata": {},
     "output_type": "execute_result"
    }
   ],
   "source": [
    "close!(ch)"
   ]
  },
  {
   "cell_type": "markdown",
   "metadata": {},
   "source": [
    "Note that if one or more of the constraints are time dependent we would use\n",
    "`update!` to recompute prescribed values in each new timestep."
   ]
  },
  {
   "cell_type": "markdown",
   "metadata": {},
   "source": [
    "### Assembling the linear system\n",
    "\n",
    "Now we have all the pieces needed to assemble the linear system, $K u = f$.\n",
    "Assembling of the global system is done by looping over all the elements in order to\n",
    "compute the element contributions $K_e$ and $f_e$, which are then assembled to the\n",
    "appropriate place in the global $K$ and $f$.\n",
    "\n",
    "#### Element assembly\n",
    "We define the function `assemble_element!` (see below) which computes the contribution for\n",
    "an element. The function takes pre-allocated `ke` and `fe` (they are allocated once and\n",
    "then reused for all elements) so we first need to make sure that they are all zeroes at\n",
    "the start of the function by using `fill!`. Then we loop over all the quadrature points,\n",
    "and for each quadrature point we loop over all the (local) shape functions. We need the\n",
    "value and gradient of the test function, `δu` and also the gradient of the trial function\n",
    "`u`. We get all of these from `cellvalues`.\n",
    "\n",
    "!!! note \"Notation\"\n",
    "    Comparing with the brief finite element introduction in Introduction to FEM,\n",
    "    the variables `δu`, `∇δu` and `∇u` are actually $\\phi_i(\\textbf{x}_q)$, $\\nabla\n",
    "    \\phi_i(\\textbf{x}_q)$ and $\\nabla \\phi_j(\\textbf{x}_q)$, i.e. the evaluation of the\n",
    "    trial and test functions in the quadrature point $\\textbf{x}_q$. However, to\n",
    "    underline the strong parallel between the weak form and the implementation, this\n",
    "    example uses the symbols appearing in the weak form."
   ]
  },
  {
   "cell_type": "code",
   "execution_count": 13,
   "metadata": {},
   "outputs": [
    {
     "data": {
      "text/plain": [
       "assemble_element! (generic function with 1 method)"
      ]
     },
     "execution_count": 13,
     "metadata": {},
     "output_type": "execute_result"
    }
   ],
   "source": [
    "function assemble_element!(Ke::Matrix, fe::Vector, cellvalues::CellScalarValues)\n",
    "    n_basefuncs = getnbasefunctions(cellvalues)\n",
    "    # Reset to 0\n",
    "    fill!(Ke, 0)\n",
    "    fill!(fe, 0)\n",
    "    # Loop over quadrature points\n",
    "    for q_point in 1:getnquadpoints(cellvalues)\n",
    "        # Get the quadrature weight\n",
    "        dΩ = getdetJdV(cellvalues, q_point)\n",
    "        # Loop over test shape functions\n",
    "        for i in 1:n_basefuncs\n",
    "            δu  = shape_value(cellvalues, q_point, i)\n",
    "            ∇δu = shape_gradient(cellvalues, q_point, i)\n",
    "            # Add contribution to fe\n",
    "            fe[i] += δu * dΩ\n",
    "            # Loop over trial shape functions\n",
    "            for j in 1:n_basefuncs\n",
    "                ∇u = shape_gradient(cellvalues, q_point, j)\n",
    "                # Add contribution to Ke\n",
    "                Ke[i, j] += (∇δu ⋅ ∇u) * dΩ\n",
    "            end\n",
    "        end\n",
    "    end\n",
    "    return Ke, fe\n",
    "end"
   ]
  },
  {
   "cell_type": "code",
   "execution_count": 19,
   "metadata": {},
   "outputs": [
    {
     "name": "stdout",
     "output_type": "stream",
     "text": [
      "search: \u001b[0m\u001b[1ms\u001b[22m\u001b[0m\u001b[1mh\u001b[22m\u001b[0m\u001b[1ma\u001b[22m\u001b[0m\u001b[1mp\u001b[22m\u001b[0m\u001b[1me\u001b[22m\u001b[0m\u001b[1m_\u001b[22m\u001b[0m\u001b[1mg\u001b[22m\u001b[0m\u001b[1mr\u001b[22m\u001b[0m\u001b[1ma\u001b[22m\u001b[0m\u001b[1md\u001b[22m\u001b[0m\u001b[1mi\u001b[22m\u001b[0m\u001b[1me\u001b[22m\u001b[0m\u001b[1mn\u001b[22m\u001b[0m\u001b[1mt\u001b[22m \u001b[0m\u001b[1ms\u001b[22m\u001b[0m\u001b[1mh\u001b[22m\u001b[0m\u001b[1ma\u001b[22m\u001b[0m\u001b[1mp\u001b[22m\u001b[0m\u001b[1me\u001b[22m\u001b[0m\u001b[1m_\u001b[22msymmetric_\u001b[0m\u001b[1mg\u001b[22m\u001b[0m\u001b[1mr\u001b[22m\u001b[0m\u001b[1ma\u001b[22m\u001b[0m\u001b[1md\u001b[22m\u001b[0m\u001b[1mi\u001b[22m\u001b[0m\u001b[1me\u001b[22m\u001b[0m\u001b[1mn\u001b[22m\u001b[0m\u001b[1mt\u001b[22m\n",
      "\n"
     ]
    },
    {
     "data": {
      "text/latex": [
       "\\begin{verbatim}\n",
       "shape_gradient(fe_v::Values, q_point::Int, base_function::Int)\n",
       "\\end{verbatim}\n",
       "Return the gradient of shape function \\texttt{base\\_function} evaluated in quadrature point \\texttt{q\\_point}.\n",
       "\n"
      ],
      "text/markdown": [
       "```\n",
       "shape_gradient(fe_v::Values, q_point::Int, base_function::Int)\n",
       "```\n",
       "\n",
       "Return the gradient of shape function `base_function` evaluated in quadrature point `q_point`.\n"
      ],
      "text/plain": [
       "\u001b[36m  shape_gradient(fe_v::Values, q_point::Int, base_function::Int)\u001b[39m\n",
       "\n",
       "  Return the gradient of shape function \u001b[36mbase_function\u001b[39m evaluated in quadrature\n",
       "  point \u001b[36mq_point\u001b[39m."
      ]
     },
     "execution_count": 19,
     "metadata": {},
     "output_type": "execute_result"
    }
   ],
   "source": [
    "?shape_gradient"
   ]
  },
  {
   "cell_type": "markdown",
   "metadata": {},
   "source": [
    "#### Global assembly\n",
    "We define the function `assemble_global` to loop over the elements and do the global\n",
    "assembly. The function takes our `cellvalues`, the sparse matrix `K`, and our DofHandler\n",
    "as input arguments and returns the assembled global stiffness matrix, and the assembled\n",
    "global force vector. We start by allocating `Ke`, `fe`, and the global force vector `f`.\n",
    "We also create an assembler by using `start_assemble`. The assembler lets us assemble into\n",
    "`K` and `f` efficiently. We then start the loop over all the elements. In each loop\n",
    "iteration we reinitialize `cellvalues` (to update derivatives of shape functions etc.),\n",
    "compute the element contribution with `assemble_element!`, and then assemble into the\n",
    "global `K` and `f` with `assemble!`.\n",
    "\n",
    "!!! note \"Notation\"\n",
    "    Comparing again with Introduction to FEM, `f` and `u` correspond to\n",
    "    $\\underline{\\hat{f}}$ and $\\underline{\\hat{u}}$, since they represent the discretized\n",
    "    versions. However, through the code we use `f` and `u` instead to reflect the strong\n",
    "    connection between the weak form and the Ferrite implementation."
   ]
  },
  {
   "cell_type": "code",
   "execution_count": 14,
   "metadata": {},
   "outputs": [
    {
     "data": {
      "text/plain": [
       "assemble_global (generic function with 1 method)"
      ]
     },
     "execution_count": 14,
     "metadata": {},
     "output_type": "execute_result"
    }
   ],
   "source": [
    "function assemble_global(cellvalues::CellScalarValues, K::SparseMatrixCSC, dh::DofHandler)\n",
    "    # Allocate the element stiffness matrix and element force vector\n",
    "    n_basefuncs = getnbasefunctions(cellvalues)\n",
    "    Ke = zeros(n_basefuncs, n_basefuncs)\n",
    "    fe = zeros(n_basefuncs)\n",
    "    # Allocate global force vector f\n",
    "    f = zeros(ndofs(dh))\n",
    "    # Create an assembler\n",
    "    assembler = start_assemble(K, f)\n",
    "    # Loop over all cels\n",
    "    for cell in CellIterator(dh)\n",
    "        # Reinitialize cellvalues for this cell\n",
    "        reinit!(cellvalues, cell)\n",
    "        # Compute element contribution\n",
    "        assemble_element!(Ke, fe, cellvalues)\n",
    "        # Assemble Ke and fe into K and f\n",
    "        assemble!(assembler, celldofs(cell), Ke, fe)\n",
    "    end\n",
    "    return K, f\n",
    "end"
   ]
  },
  {
   "cell_type": "markdown",
   "metadata": {},
   "source": [
    "### Solution of the system\n",
    "The last step is to solve the system. First we call `assemble_global`\n",
    "to obtain the global stiffness matrix `K` and force vector `f`."
   ]
  },
  {
   "cell_type": "code",
   "execution_count": 15,
   "metadata": {},
   "outputs": [
    {
     "data": {
      "text/plain": [
       "CellScalarValues{2, Float64, RefCube} with 4 shape functions and 4 quadrature points"
      ]
     },
     "execution_count": 15,
     "metadata": {},
     "output_type": "execute_result"
    }
   ],
   "source": [
    "cellvalues"
   ]
  },
  {
   "cell_type": "code",
   "execution_count": 12,
   "metadata": {},
   "outputs": [],
   "source": [
    "K, f = assemble_global(cellvalues, K, dh);"
   ]
  },
  {
   "cell_type": "markdown",
   "metadata": {},
   "source": [
    "To account for the boundary conditions we use the `apply!` function.\n",
    "This modifies elements in `K` and `f` respectively, such that\n",
    "we can get the correct solution vector `u` by using `\\`."
   ]
  },
  {
   "cell_type": "code",
   "execution_count": 13,
   "metadata": {},
   "outputs": [],
   "source": [
    "apply!(K, f, ch)\n",
    "u = K \\ f;"
   ]
  },
  {
   "cell_type": "markdown",
   "metadata": {},
   "source": [
    "### Exporting to VTK\n",
    "To visualize the result we export the grid and our field `u`\n",
    "to a VTK-file, which can be viewed in e.g. [ParaView](https://www.paraview.org/)."
   ]
  },
  {
   "cell_type": "code",
   "execution_count": 14,
   "metadata": {},
   "outputs": [
    {
     "data": {
      "text/plain": [
       "1-element Vector{String}:\n",
       " \"heat_equation.vtu\""
      ]
     },
     "execution_count": 14,
     "metadata": {},
     "output_type": "execute_result"
    }
   ],
   "source": [
    "vtk_grid(\"heat_equation\", dh) do vtk\n",
    "    vtk_point_data(vtk, dh, u)\n",
    "end"
   ]
  },
  {
   "cell_type": "markdown",
   "metadata": {},
   "source": [
    "---\n",
    "\n",
    "*This notebook was generated using [Literate.jl](https://github.com/fredrikekre/Literate.jl).*"
   ]
  }
 ],
 "metadata": {
  "kernelspec": {
   "display_name": "Julia 1.9.0",
   "language": "julia",
   "name": "julia-1.9"
  },
  "language_info": {
   "file_extension": ".jl",
   "mimetype": "application/julia",
   "name": "julia",
   "version": "1.9.0"
  }
 },
 "nbformat": 4,
 "nbformat_minor": 3
}
