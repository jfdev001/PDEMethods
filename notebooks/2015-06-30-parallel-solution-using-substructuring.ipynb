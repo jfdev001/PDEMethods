{
 "cells": [
  {
   "cell_type": "markdown",
   "metadata": {},
   "source": [
    "# Parallel solution of problem using substructuring and static condensation of internal nodes\n",
    "\n",
    "Author(s): Jukka Aho <jukka.aho@kapsi.fi>\n",
    "\n",
    "**Abstract**: First ideas of going towards parallel solution"
   ]
  },
  {
   "cell_type": "markdown",
   "metadata": {},
   "source": [
    "## Substructuring and static condensation\n",
    "\n",
    "Let us again consider something as simple as possible to give idea of algorithm, e.g. 1d poisson equation with homogeneous Dirichlet boundary condition and Neumann boundary condition in other end.\n",
    "\n",
    "\\begin{equation}\n",
    "u'' = 0 \\quad u(0)=0 \\quad u'(2)=1\n",
    "\\end{equation}\n",
    "\n",
    "Accurate solution is $u(x) = x$.\n",
    "\n",
    "We discretize this to to elements and have three nodes therefore. Discretized solution using the centered difference for second derivative\n",
    "\n",
    "\\begin{equation}\n",
    "u'' =  \\frac{u(x - \\Delta x) - 2 u(x) +  u(x + \\Delta x)}{\\Delta x^2} = 0.\n",
    "\\end{equation}\n",
    "\n",
    "So for 3 nodes, \n",
    "\\begin{aligned}\n",
    "u_0 - 2 u_1 + u_2 &= 0,\n",
    "\\end{aligned}\n",
    "\n",
    "and with the neumann condition approximated using a centered difference for first derivative\n",
    "\n",
    "\\begin{equation}\n",
    "u'(x) = \\frac{u(x+\\Delta x) - u(x - \\Delta x)}{2 \\Delta x},\n",
    "\\end{equation}\n",
    "\n",
    "therefore the neumann condition is satisfied by\n",
    "\n",
    "\\begin{equation}\n",
    "u'(2) = u_2 = u_3 - u_1 = 2 \\Delta x \\implies u_3 = 2 \\Delta x \\alpha + u_1,\\ \\alpha = 1.\n",
    "\\end{equation}"
   ]
  },
  {
   "cell_type": "code",
   "execution_count": 10,
   "metadata": {},
   "outputs": [
    {
     "data": {
      "text/plain": [
       "3-element Vector{Float64}:\n",
       " 0.0\n",
       " 1.0\n",
       " 2.0"
      ]
     },
     "execution_count": 10,
     "metadata": {},
     "output_type": "execute_result"
    }
   ],
   "source": [
    "# Check \n",
    "# https://mathematica.stackexchange.com/questions/220627/finite-difference-method-for-1d-poisson-equation-with-mixed-boundary-conditions\n",
    "# http://ta.twi.tudelft.nl/nw/users/domenico/electro_fem/assignment_fdm_1d.pdf\n",
    "A = [1 0 0; 1 -2 1; 0 -1 1] # original has [1 -1 0 ....]\n",
    "f = [0, 0, 1]\n",
    "free_dofs = [2, 3]\n",
    "u = zeros(3)\n",
    "u[free_dofs] = A[free_dofs, free_dofs]\\f[free_dofs]\n",
    "u"
   ]
  },
  {
   "cell_type": "code",
   "execution_count": 11,
   "metadata": {},
   "outputs": [
    {
     "data": {
      "text/plain": [
       "3×3 Matrix{Int64}:\n",
       " 1   0  0\n",
       " 1  -2  1\n",
       " 0  -1  1"
      ]
     },
     "metadata": {},
     "output_type": "display_data"
    },
    {
     "data": {
      "text/plain": [
       "3-element Vector{Int64}:\n",
       " 0\n",
       " 0\n",
       " 1"
      ]
     },
     "metadata": {},
     "output_type": "display_data"
    }
   ],
   "source": [
    "display(A)\n",
    "display(f)"
   ]
  },
  {
   "cell_type": "markdown",
   "metadata": {},
   "source": [
    "We call middle to node to interior node and left and right node to boundary nodes, i.e."
   ]
  },
  {
   "cell_type": "code",
   "execution_count": 16,
   "metadata": {},
   "outputs": [
    {
     "data": {
      "image/png": "[encoded data removed]",
      "text/plain": [
       "PyPlot.Figure(PyObject <matplotlib.figure.Figure object at 0x318ba7bd0>)"
      ]
     },
     "metadata": {},
     "output_type": "display_data"
    }
   ],
   "source": [
    "using PyPlot\n",
    "figure(figsize=(5, 1))\n",
    "plot([0, 1, 2], [0, 0, 0], \"k\")\n",
    "plot([0, 2], [0, 0], \"ro\", label=\"Boundary nodes\")\n",
    "plot([1], [0], \"bo\", label=\"Interior nodes\")\n",
    "legend(loc=5, prop=Dict(\"size\" => 10))\n",
    "xlim(-0.2, 5.2)\n",
    "axis(\"off\");"
   ]
  },
  {
   "cell_type": "markdown",
   "metadata": {},
   "source": [
    "Static condensation. We define two sets of nodes, $I$ for interior nodes and $B$ for boundary nodes, so the equation in block-matrix form is now\n",
    "\n",
    "\\begin{equation}\n",
    "\\mathbf{A}=\\left[\\begin{array}{cc}\n",
    "\\mathbf{A}_{\\mathrm{II}} & \\mathbf{A}_{\\mathrm{IB}}\\\\\n",
    "\\mathbf{A}_{\\mathrm{BI}} & \\mathbf{A}_{\\mathrm{BB}}\n",
    "\\end{array}\\right]\\quad\\mathbf{u}=\\left[\\begin{array}{c}\n",
    "\\mathbf{u}_{\\mathrm{I}}\\\\\n",
    "\\mathbf{u}_{\\mathrm{B}}\n",
    "\\end{array}\\right]\\quad\\mathbf{f}=\\left[\\begin{array}{c}\n",
    "\\mathbf{f}_{\\mathbf{I}}\\\\\n",
    "\\mathbf{f}_{\\mathbf{B}}\n",
    "\\end{array}\\right]\n",
    "\\end{equation}\n",
    "\n",
    "After matrix algebra we end up to\n",
    "\n",
    "\\begin{eqnarray}\n",
    "\\mathbf{A}_{\\mathrm{II}}\\mathbf{u}_{\\mathrm{I}}+\\mathbf{A}_{\\mathrm{IB}}\\mathbf{u}_{\\mathrm{B}} & = & \\mathbf{f}_{\\mathbf{I}}\\\\\n",
    "\\mathbf{A}_{\\mathrm{BI}}\\mathbf{u}_{\\mathrm{I}}+\\mathbf{A}_{\\mathrm{BB}}\\mathbf{u}_{\\mathrm{B}} & = & \\mathbf{f}_{\\mathbf{B}}\n",
    "\\end{eqnarray}\n",
    "\n",
    "\\begin{equation}\n",
    "\\mathbf{u}_{\\mathrm{I}}=\\mathbf{A}_{\\mathrm{II}}^{-1}\\left(\\mathbf{f}_{\\mathbf{I}}-\\mathbf{A}_{\\mathrm{IB}}\\mathbf{u}_{\\mathrm{B}}\\right)\n",
    "\\end{equation}\n",
    "\n",
    "\\begin{equation}\n",
    "\\mathbf{A}_{\\mathrm{BI}}\\mathbf{u}_{\\mathrm{I}}+\\mathbf{A}_{\\mathrm{BB}}\\mathbf{u}_{\\mathrm{B}}=\\mathbf{A}_{\\mathrm{BI}}\\left(\\mathbf{A}_{\\mathrm{II}}^{-1}\\left(\\mathbf{f}_{\\mathbf{I}}-\\mathbf{A}_{\\mathrm{IB}}\\mathbf{u}_{\\mathrm{B}}\\right)\\right)+\\mathbf{A}_{\\mathrm{BB}}\\mathbf{u}_{\\mathrm{B}}=\\mathbf{f}_{\\mathbf{B}}\n",
    "\\end{equation}\n",
    "\n",
    "\\begin{equation}\n",
    "\\mathbf{A}_{\\mathrm{BI}}\\left(\\mathbf{A}_{\\mathrm{II}}^{-1}\\mathbf{f}_{\\mathbf{I}}-\\mathbf{A}_{\\mathrm{II}}^{-1}\\mathbf{A}_{\\mathrm{IB}}\\mathbf{u}_{\\mathrm{B}}\\right)+\\mathbf{A}_{\\mathrm{BB}}\\mathbf{u}_{\\mathrm{B}}=\\mathbf{f}_{\\mathbf{B}}\n",
    "\\end{equation}\n",
    "\n",
    "\\begin{equation}\n",
    "\\mathbf{A}_{\\mathrm{BI}}\\mathbf{A}_{\\mathrm{II}}^{-1}\\mathbf{f}_{\\mathbf{I}}-\\mathbf{A}_{\\mathrm{BI}}\\mathbf{A}_{\\mathrm{II}}^{-1}\\mathbf{A}_{\\mathrm{IB}}\\mathbf{u}_{\\mathrm{B}}+\\mathbf{A}_{\\mathrm{BB}}\\mathbf{u}_{\\mathrm{B}}=\\mathbf{f}_{\\mathbf{B}}\n",
    "\\end{equation}\n",
    "\n",
    "\\begin{equation}\n",
    "\\mathbf{A}_{\\mathrm{BB}}\\mathbf{u}_{\\mathrm{B}}-\\mathbf{A}_{\\mathrm{BI}}\\mathbf{A}_{\\mathrm{II}}^{-1}\\mathbf{A}_{\\mathrm{IB}}\\mathbf{u}_{\\mathrm{B}}=\\mathbf{f}_{\\mathbf{B}}-\\mathbf{A}_{\\mathrm{BI}}\\mathbf{A}_{\\mathrm{II}}^{-1}\\mathbf{f}_{\\mathbf{I}}\n",
    "\\end{equation}\n",
    "\n",
    "\\begin{equation}\n",
    "\\left(\\mathbf{A}_{\\mathrm{BB}}-\\mathbf{A}_{\\mathrm{BI}}\\mathbf{A}_{\\mathrm{II}}^{-1}\\mathbf{A}_{\\mathrm{IB}}\\right)\\mathbf{u}_{\\mathrm{B}}=\\mathbf{f}_{\\mathbf{B}}-\\mathbf{A}_{\\mathrm{BI}}\\mathbf{A}_{\\mathrm{II}}^{-1}\\mathbf{f}_{\\mathbf{I}}\n",
    "\\end{equation}\n",
    "\n",
    "\\begin{equation}\n",
    "\\mathbf{A}_{\\mathrm{C}}=\\mathbf{f}_{\\mathrm{C}}\n",
    "\\end{equation}\n",
    "\n",
    "where interior nodes has been succesfully eliminated. So we first form condensated matrix $\\mathbf{A}_{\\mathrm{C}}$ and vector $\\mathbf{f}_{\\mathrm{C}}$"
   ]
  },
  {
   "cell_type": "code",
   "execution_count": 24,
   "metadata": {},
   "outputs": [
    {
     "data": {
      "text/plain": [
       "2×2 Matrix{Float64}:\n",
       "  1.0  0.0\n",
       " -0.5  0.5"
      ]
     },
     "execution_count": 24,
     "metadata": {},
     "output_type": "execute_result"
    }
   ],
   "source": [
    "B = [1, 3]\n",
    "I = [2]\n",
    "#Ac = A[B,B] - A[B,I]*inv(A[I,I])*A[I,B]\n",
    "A_BB = A[B,B]\n",
    "A_BI = A[B,I]\n",
    "A_II = A[I,I]\n",
    "A_IB = A[I,B]\n",
    "Ac = A_BB - A_BI*inv(A_II)*A[I,B]\n",
    "Ac"
   ]
  },
  {
   "cell_type": "code",
   "execution_count": 22,
   "metadata": {},
   "outputs": [
    {
     "data": {
      "text/plain": [
       "3×3 Matrix{Int64}:\n",
       " 1   0  0\n",
       " 1  -2  1\n",
       " 0  -1  1"
      ]
     },
     "metadata": {},
     "output_type": "display_data"
    },
    {
     "data": {
      "text/plain": [
       "1×1 Matrix{Int64}:\n",
       " -2"
      ]
     },
     "metadata": {},
     "output_type": "display_data"
    },
    {
     "data": {
      "text/plain": [
       "1×2 Matrix{Int64}:\n",
       " 1  1"
      ]
     },
     "metadata": {},
     "output_type": "display_data"
    },
    {
     "data": {
      "text/plain": [
       "2×1 Matrix{Int64}:\n",
       "  0\n",
       " -1"
      ]
     },
     "metadata": {},
     "output_type": "display_data"
    },
    {
     "data": {
      "text/plain": [
       "2×2 Matrix{Int64}:\n",
       " 1  0\n",
       " 0  1"
      ]
     },
     "metadata": {},
     "output_type": "display_data"
    },
    {
     "data": {
      "text/plain": [
       "3×3 Matrix{Int64}:\n",
       " -2  1  1\n",
       "  0  1  0\n",
       " -1  0  1"
      ]
     },
     "metadata": {},
     "output_type": "display_data"
    }
   ],
   "source": [
    "display(A)\n",
    "display(A_II)\n",
    "display(A_IB)\n",
    "display(A_BI)\n",
    "display(A_BB)\n",
    "display([\n",
    "    A_II A_IB\n",
    "    A_BI A_BB]\n",
    ")"
   ]
  },
  {
   "cell_type": "code",
   "execution_count": 26,
   "metadata": {},
   "outputs": [
    {
     "data": {
      "text/plain": [
       "2-element Vector{Float64}:\n",
       " 0.0\n",
       " 1.0"
      ]
     },
     "execution_count": 26,
     "metadata": {},
     "output_type": "execute_result"
    }
   ],
   "source": [
    "fc = f[B] - A[B,I]*inv(A[I,I])*f[I]\n",
    "fc"
   ]
  },
  {
   "cell_type": "markdown",
   "metadata": {},
   "source": [
    "Next we solve the condensed system with interior node removed"
   ]
  },
  {
   "cell_type": "code",
   "execution_count": 27,
   "metadata": {},
   "outputs": [
    {
     "data": {
      "text/plain": [
       "3-element Vector{Float64}:\n",
       " 0.0\n",
       " 0.0\n",
       " 2.0"
      ]
     },
     "execution_count": 27,
     "metadata": {},
     "output_type": "execute_result"
    }
   ],
   "source": [
    "free_dofsc = [2] # free degrees of freedom in condensed system\n",
    "u = zeros(3)\n",
    "u[B[free_dofsc]] = Ac[free_dofsc, free_dofsc]\\fc[free_dofsc]\n",
    "u"
   ]
  },
  {
   "cell_type": "markdown",
   "metadata": {},
   "source": [
    "If we want to calculate field variable in interior node:"
   ]
  },
  {
   "cell_type": "code",
   "execution_count": 20,
   "metadata": {},
   "outputs": [
    {
     "data": {
      "text/plain": [
       "3-element Array{Float64,1}:\n",
       " 0.0\n",
       " 1.0\n",
       " 2.0"
      ]
     },
     "execution_count": 20,
     "metadata": {},
     "output_type": "execute_result"
    }
   ],
   "source": [
    "u[I] = inv(A[I,I])*(f[I] - A[I,B]*u[B])\n",
    "u"
   ]
  },
  {
   "cell_type": "markdown",
   "metadata": {},
   "source": [
    "Of course we cannot take inverse of interior node matrix in real life applications, it's costs way too much.."
   ]
  },
  {
   "cell_type": "markdown",
   "metadata": {},
   "source": [
    "## Parallel solution\n",
    "\n",
    "We can use exactly same concept as described earlier. We first remove interior nodes in subdomains and after that solve boundary system. Boundaries must be \"tied\" together with Lagrange multipliers, penalty method or something similar. This time we discretize the system to 4 elements and split it to two domains:"
   ]
  },
  {
   "cell_type": "code",
   "execution_count": 21,
   "metadata": {},
   "outputs": [
    {
     "data": {
      "image/png": "[encoded data removed]",
      "text/plain": [
       "PyPlot.Figure(PyObject <matplotlib.figure.Figure object at 0x3186e0a10>)"
      ]
     },
     "metadata": {},
     "output_type": "display_data"
    },
    {
     "data": {
      "image/png": "[encoded data removed]",
      "text/plain": [
       "PyPlot.Figure(PyObject <matplotlib.figure.Figure object at 0x318f895d0>)"
      ]
     },
     "metadata": {},
     "output_type": "display_data"
    }
   ],
   "source": [
    "figure(figsize=(5, 1))\n",
    "plot([0, 1, 2, 3, 4], [0, 0, 0, 0, 0], \"k\")\n",
    "plot([0, 2, 4], [0, 0, 0], \"ro\", label=\"Boundary nodes\")\n",
    "plot([1, 3], [0, 0], \"bo\", label=\"Interior nodes\")\n",
    "legend(loc=5, prop=Dict(\"size\" => 10))\n",
    "xlim(-0.2, 13)\n",
    "axis(\"off\")\n",
    "figure(figsize=(5, 1))\n",
    "plot([0, 1, 2], [0, 0, 0], \"k\")\n",
    "plot([3, 4, 5], [0, 0, 0], \"k\")\n",
    "\n",
    "plot([0, 2, 3, 5], [0, 0, 0, 0], \"ro\", label=\"Boundary nodes\")\n",
    "plot([1, 4], [0, 0], \"bo\", label=\"Interior nodes\")\n",
    "legend(loc=5, prop=Dict(\"size\" => 10))\n",
    "xlim(-0.2, 13)\n",
    "axis(\"off\");"
   ]
  },
  {
   "cell_type": "markdown",
   "metadata": {},
   "source": [
    "Here the third node in now shared between boundaries. Now we can make static condensation in parallel, because domains do not share information yet"
   ]
  },
  {
   "cell_type": "code",
   "execution_count": 22,
   "metadata": {},
   "outputs": [
    {
     "data": {
      "text/plain": [
       "(\n",
       "2x2 Array{Float64,2}:\n",
       "  1.0  -1.0\n",
       " -1.0   1.0,\n",
       "\n",
       "[0.0,1.0])"
      ]
     },
     "execution_count": 22,
     "metadata": {},
     "output_type": "execute_result"
    }
   ],
   "source": [
    "\"\"\"\n",
    "Condensate system A = f, i.e. remove interior nodes from system.\n",
    "\"\"\"\n",
    "function condensate(A, f, B, I)\n",
    "    # in real life application we obviously make integration\n",
    "    # and assembly of system here before condensation\n",
    "    Ac = A[B,B] - A[B,I]*inv(A[I,I])*A[I,B]\n",
    "    fc = f[B] - A[B,I]*inv(A[I,I])*f[I]\n",
    "    return Ac, fc\n",
    "end\n",
    "A1 = 2*copy(A)\n",
    "f1 = zeros(3)\n",
    "A2 = 2*copy(A)\n",
    "f2 = copy(f)\n",
    "\n",
    "# PARALLEL solution starts here\n",
    "Ac1, fc1 = condensate(A1, f1, B, I) # worker 1: assembly domain 1 matrices and make static condensation\n",
    "Ac2, fc2 = condensate(A2, f2, B, I) # worker 2: assembly domain 2 matrices and make static condensation"
   ]
  },
  {
   "cell_type": "markdown",
   "metadata": {},
   "source": [
    "Now we have two 2x2 systems describing the boundaries. In condensated system\n",
    "\n",
    "\\begin{eqnarray}\n",
    "u_{1} & = & 0\\\\\n",
    "u_{2} & = & u_{3}\n",
    "\\end{eqnarray}\n",
    "\n",
    "So our Lagrange multipliers (\"restriction operator\"?) are"
   ]
  },
  {
   "cell_type": "code",
   "execution_count": 23,
   "metadata": {},
   "outputs": [
    {
     "data": {
      "text/plain": [
       "2x4 Array{Int64,2}:\n",
       " 1  0   0  0\n",
       " 0  1  -1  0"
      ]
     },
     "execution_count": 23,
     "metadata": {},
     "output_type": "execute_result"
    }
   ],
   "source": [
    "# How are these computed??\n",
    "R = [1 0 0 0; 0 1 -1 0]"
   ]
  },
  {
   "cell_type": "markdown",
   "metadata": {},
   "source": [
    "Assembly of boundary systems + Lagrange multipliers"
   ]
  },
  {
   "cell_type": "code",
   "execution_count": 24,
   "metadata": {},
   "outputs": [
    {
     "data": {
      "text/plain": [
       "4-element Array{Float64,1}:\n",
       " 0.0\n",
       " 0.0\n",
       " 0.0\n",
       " 1.0"
      ]
     },
     "execution_count": 24,
     "metadata": {},
     "output_type": "execute_result"
    }
   ],
   "source": [
    "Z22 = zeros(2, 2)\n",
    "Z2 = zeros(2)\n",
    "A_ass = [Ac1 Z22; Z22 Ac2]\n",
    "f_ass = [fc1; fc2]"
   ]
  },
  {
   "cell_type": "code",
   "execution_count": 25,
   "metadata": {},
   "outputs": [
    {
     "data": {
      "text/plain": [
       "6-element Array{Float64,1}:\n",
       " 0.0\n",
       " 0.0\n",
       " 0.0\n",
       " 1.0\n",
       " 0.0\n",
       " 0.0"
      ]
     },
     "execution_count": 25,
     "metadata": {},
     "output_type": "execute_result"
    }
   ],
   "source": [
    "A_ass_w_lag = [A_ass R'; R Z22]\n",
    "f_ass_w_lag = [f_ass; Z2]"
   ]
  },
  {
   "cell_type": "code",
   "execution_count": 26,
   "metadata": {},
   "outputs": [
    {
     "data": {
      "text/plain": [
       "6-element Array{Float64,1}:\n",
       "  0.0\n",
       "  1.0\n",
       "  1.0\n",
       "  2.0\n",
       "  1.0\n",
       " -1.0"
      ]
     },
     "execution_count": 26,
     "metadata": {},
     "output_type": "execute_result"
    }
   ],
   "source": [
    "sol = A_ass_w_lag \\ f_ass_w_lag"
   ]
  },
  {
   "cell_type": "markdown",
   "metadata": {},
   "source": [
    "Here we have our shared boundary node solution defined twice + Lagrange multipliers. I think we can go even further and condensate this remaining system. If we again are interested of interior solution in domains, we can"
   ]
  },
  {
   "cell_type": "code",
   "execution_count": 27,
   "metadata": {},
   "outputs": [
    {
     "data": {
      "text/plain": [
       "1-element Array{Float64,1}:\n",
       " 0.5"
      ]
     },
     "execution_count": 27,
     "metadata": {},
     "output_type": "execute_result"
    }
   ],
   "source": [
    "inv(A1[I,I])*(f1[I] - A1[I,B]*sol[[1, 2]])"
   ]
  },
  {
   "cell_type": "code",
   "execution_count": 28,
   "metadata": {},
   "outputs": [
    {
     "data": {
      "text/plain": [
       "1-element Array{Float64,1}:\n",
       " 1.5"
      ]
     },
     "execution_count": 28,
     "metadata": {},
     "output_type": "execute_result"
    }
   ],
   "source": [
    "inv(A2[I,I])*(f2[I] - A2[I,B]*sol[[3, 4]])"
   ]
  },
  {
   "cell_type": "code",
   "execution_count": null,
   "metadata": {
    "collapsed": true
   },
   "outputs": [],
   "source": []
  }
 ],
 "metadata": {
  "kernelspec": {
   "display_name": "Julia 1.9.0",
   "language": "julia",
   "name": "julia-1.9"
  },
  "language_info": {
   "file_extension": ".jl",
   "mimetype": "application/julia",
   "name": "julia",
   "version": "1.9.0"
  }
 },
 "nbformat": 4,
 "nbformat_minor": 1
}
