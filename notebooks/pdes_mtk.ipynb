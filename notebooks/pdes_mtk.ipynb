{
 "cells": [
  {
   "cell_type": "code",
   "execution_count": 1,
   "id": "7a28b069",
   "metadata": {},
   "outputs": [],
   "source": [
    "# Messing with poisson/wave equation\n",
    "# from CFD julia using modeling toolkit\n",
    "using ModelingToolkit\n",
    "using MethodOfLines\n",
    "using Plots"
   ]
  },
  {
   "cell_type": "code",
   "execution_count": 12,
   "id": "1ff62a76",
   "metadata": {},
   "outputs": [
    {
     "data": {
      "text/latex": [
       "$$ \\begin{align}\n",
       "\\frac{\\mathrm{d}}{\\mathrm{d}t} \\frac{\\mathrm{d}}{\\mathrm{d}t} u\\left( t, x \\right) =& \\frac{\\mathrm{d}}{\\mathrm{d}x} \\frac{\\mathrm{d}}{\\mathrm{d}x} u\\left( t, x \\right)\n",
       "\\end{align}\n",
       " $$"
      ],
      "text/plain": [
       "PDESystem\n",
       "Equations: Equation[Differential(t)(Differential(t)(u(t, x))) ~ Differential(x)(Differential(x)(u(t, x)))]\n",
       "Boundary Conditions: Equation[u(t, 0) ~ 0.0, u(t, 1) ~ 0.0, u(0, x) ~ (1.0 - x)*x, Differential(t)(u(0, x)) ~ 0.0]\n",
       "Domain: Symbolics.VarDomainPairing[Symbolics.VarDomainPairing(t, 0.0 .. 1.0), Symbolics.VarDomainPairing(x, 0.0 .. 1.0)]\n",
       "Dependent Variables: Symbolics.CallWithMetadata{SymbolicUtils.FnType{Tuple, Real}, Base.ImmutableDict{DataType, Any}}[u⋆]\n",
       "Independent Variables: Num[t, x]\n",
       "Parameters: SciMLBase.NullParameters()\n",
       "Default Parameter ValuesDict{Any, Any}()"
      ]
     },
     "execution_count": 12,
     "metadata": {},
     "output_type": "execute_result"
    }
   ],
   "source": [
    "# check here: https://docs.sciml.ai/MethodOfLines/stable/tutorials/heat/\n",
    "# also... \n",
    "@parameters x\n",
    "@variables t u(..)\n",
    "Dxx = Differential(x)^2\n",
    "Dtt = Differential(t)^2\n",
    "Dt = Differential(t)\n",
    "\n",
    "#2D PDE\n",
    "C=1\n",
    "eq  = Dtt(u(t,x)) ~ C^2*Dxx(u(t,x))\n",
    "\n",
    "# Initial and boundary conditions\n",
    "bcs = [u(t,0) ~ 0.,# for all t > 0\n",
    "       u(t,1) ~ 0.,# for all t > 0\n",
    "       u(0,x) ~ x*(1. - x), #for all 0 < x < 1\n",
    "       Dt(u(0,x)) ~ 0. ] #for all  0 < x < 1]\n",
    "\n",
    "# Space and time domains\n",
    "domains = [t ∈ (0.0,1.0),\n",
    "           x ∈ (0.0,1.0)]\n",
    "\n",
    "@named pde_system = PDESystem(eq,bcs,domains,[t,x],[u])"
   ]
  },
  {
   "cell_type": "code",
   "execution_count": 10,
   "id": "f6332469",
   "metadata": {},
   "outputs": [
    {
     "ename": "LoadError",
     "evalue": "MethodError: no method matching discretize(::PDESystem, ::Type{MOLFiniteDifference})\n\n\u001b[0mClosest candidates are:\n\u001b[0m  discretize(::PDESystem, \u001b[91m::PDEBase.AbstractEquationSystemDiscretization\u001b[39m; analytic, kwargs...)\n\u001b[0m\u001b[90m   @\u001b[39m \u001b[35mPDEBase\u001b[39m \u001b[90m~/.julia/packages/PDEBase/jX5Yp/src/\u001b[39m\u001b[90m\u001b[4mdiscretization_state.jl:55\u001b[24m\u001b[39m\n",
     "output_type": "error",
     "traceback": [
      "MethodError: no method matching discretize(::PDESystem, ::Type{MOLFiniteDifference})\n\n\u001b[0mClosest candidates are:\n\u001b[0m  discretize(::PDESystem, \u001b[91m::PDEBase.AbstractEquationSystemDiscretization\u001b[39m; analytic, kwargs...)\n\u001b[0m\u001b[90m   @\u001b[39m \u001b[35mPDEBase\u001b[39m \u001b[90m~/.julia/packages/PDEBase/jX5Yp/src/\u001b[39m\u001b[90m\u001b[4mdiscretization_state.jl:55\u001b[24m\u001b[39m\n",
      "",
      "Stacktrace:",
      " [1] top-level scope",
      "   @ In[10]:1"
     ]
    }
   ],
   "source": [
    "wave = discretize(pde_system, MOLFiniteDifference)"
   ]
  },
  {
   "cell_type": "code",
   "execution_count": 11,
   "id": "5c2173cb",
   "metadata": {},
   "outputs": [
    {
     "name": "stdout",
     "output_type": "stream",
     "text": [
      "search: \u001b[0m\u001b[1mM\u001b[22m\u001b[0m\u001b[1mO\u001b[22m\u001b[0m\u001b[1mL\u001b[22m\u001b[0m\u001b[1mF\u001b[22m\u001b[0m\u001b[1mi\u001b[22m\u001b[0m\u001b[1mn\u001b[22m\u001b[0m\u001b[1mi\u001b[22m\u001b[0m\u001b[1mt\u001b[22m\u001b[0m\u001b[1me\u001b[22m\u001b[0m\u001b[1mD\u001b[22m\u001b[0m\u001b[1mi\u001b[22m\u001b[0m\u001b[1mf\u001b[22m\u001b[0m\u001b[1mf\u001b[22m\u001b[0m\u001b[1me\u001b[22m\u001b[0m\u001b[1mr\u001b[22m\u001b[0m\u001b[1me\u001b[22m\u001b[0m\u001b[1mn\u001b[22m\u001b[0m\u001b[1mc\u001b[22m\u001b[0m\u001b[1me\u001b[22m\n",
      "\n"
     ]
    },
    {
     "data": {
      "text/latex": [
       "\\begin{verbatim}\n",
       "MOLFiniteDifference(dxs, time=nothing;\n",
       "                    approx_order = 2, advection_scheme = UpwindScheme(),\n",
       "                    grid_align = CenterAlignedGrid(), kwargs...)\n",
       "\\end{verbatim}\n",
       "A discretization algorithm.\n",
       "\n",
       "\\subsection{Arguments}\n",
       "\\begin{itemize}\n",
       "\\item \\texttt{dxs}: A vector of pairs of parameters to the grid step in this dimension, i.e. \\texttt{[x=>0.2, y=>0.1]}.   For a non-uniform rectilinear grid, replace any or all of the step sizes with the grid you'd like to   use with that variable, must be an \\texttt{AbstractVector} but not a \\texttt{StepRangeLen}.\n",
       "\n",
       "\n",
       "\\item \\texttt{time}: Your choice of continuous variable, usually time. If \\texttt{time = nothing}, then discretization   yields a \\texttt{NonlinearProblem}. Defaults to \\texttt{nothing}.\n",
       "\n",
       "\\end{itemize}\n",
       "\\subsection{Keyword Arguments}\n",
       "\\begin{itemize}\n",
       "\\item \\texttt{approx\\_order}: The order of the derivative approximation.\n",
       "\n",
       "\n",
       "\\item \\texttt{advection\\_scheme}: The scheme to be used to discretize advection terms, i.e. first order spatial derivatives and associated coefficients. Defaults to \\texttt{UpwindScheme()}. WENOScheme() is also available, and is more stable and accurate at the cost of complexity.\n",
       "\n",
       "\n",
       "\\item \\texttt{grid\\_align}: The grid alignment types. See \\href{@ref}{\\texttt{CenterAlignedGrid()}} and \\href{@ref}{\\texttt{EdgeAlignedGrid()}}.\n",
       "\n",
       "\n",
       "\\item \\texttt{use\\_ODAE}: If \\texttt{true}, the discretization will use the \\texttt{ODAEproblem} constructor.   Defaults to \\texttt{false}.\n",
       "\n",
       "\n",
       "\\item \\texttt{kwargs}: Any other keyword arguments you want to pass to the \\texttt{ODEProblem}.\n",
       "\n",
       "\\end{itemize}\n"
      ],
      "text/markdown": [
       "```\n",
       "MOLFiniteDifference(dxs, time=nothing;\n",
       "                    approx_order = 2, advection_scheme = UpwindScheme(),\n",
       "                    grid_align = CenterAlignedGrid(), kwargs...)\n",
       "```\n",
       "\n",
       "A discretization algorithm.\n",
       "\n",
       "## Arguments\n",
       "\n",
       "  * `dxs`: A vector of pairs of parameters to the grid step in this dimension, i.e. `[x=>0.2, y=>0.1]`.   For a non-uniform rectilinear grid, replace any or all of the step sizes with the grid you'd like to   use with that variable, must be an `AbstractVector` but not a `StepRangeLen`.\n",
       "  * `time`: Your choice of continuous variable, usually time. If `time = nothing`, then discretization   yields a `NonlinearProblem`. Defaults to `nothing`.\n",
       "\n",
       "## Keyword Arguments\n",
       "\n",
       "  * `approx_order`: The order of the derivative approximation.\n",
       "  * `advection_scheme`: The scheme to be used to discretize advection terms, i.e. first order spatial derivatives and associated coefficients. Defaults to `UpwindScheme()`. WENOScheme() is also available, and is more stable and accurate at the cost of complexity.\n",
       "  * `grid_align`: The grid alignment types. See [`CenterAlignedGrid()`](@ref) and [`EdgeAlignedGrid()`](@ref).\n",
       "  * `use_ODAE`: If `true`, the discretization will use the `ODAEproblem` constructor.   Defaults to `false`.\n",
       "  * `kwargs`: Any other keyword arguments you want to pass to the `ODEProblem`.\n"
      ],
      "text/plain": [
       "\u001b[36m  MOLFiniteDifference(dxs, time=nothing;\u001b[39m\n",
       "\u001b[36m                      approx_order = 2, advection_scheme = UpwindScheme(),\u001b[39m\n",
       "\u001b[36m                      grid_align = CenterAlignedGrid(), kwargs...)\u001b[39m\n",
       "\n",
       "  A discretization algorithm.\n",
       "\n",
       "\u001b[1m  Arguments\u001b[22m\n",
       "\u001b[1m  ===========\u001b[22m\n",
       "\n",
       "    •  \u001b[36mdxs\u001b[39m: A vector of pairs of parameters to the grid step in this\n",
       "       dimension, i.e. \u001b[36m[x=>0.2, y=>0.1]\u001b[39m. For a non-uniform rectilinear\n",
       "       grid, replace any or all of the step sizes with the grid you'd\n",
       "       like to use with that variable, must be an \u001b[36mAbstractVector\u001b[39m but not\n",
       "       a \u001b[36mStepRangeLen\u001b[39m.\n",
       "\n",
       "    •  \u001b[36mtime\u001b[39m: Your choice of continuous variable, usually time. If \u001b[36mtime =\n",
       "       nothing\u001b[39m, then discretization yields a \u001b[36mNonlinearProblem\u001b[39m. Defaults\n",
       "       to \u001b[36mnothing\u001b[39m.\n",
       "\n",
       "\u001b[1m  Keyword Arguments\u001b[22m\n",
       "\u001b[1m  ===================\u001b[22m\n",
       "\n",
       "    •  \u001b[36mapprox_order\u001b[39m: The order of the derivative approximation.\n",
       "\n",
       "    •  \u001b[36madvection_scheme\u001b[39m: The scheme to be used to discretize advection\n",
       "       terms, i.e. first order spatial derivatives and associated\n",
       "       coefficients. Defaults to \u001b[36mUpwindScheme()\u001b[39m. WENOScheme() is also\n",
       "       available, and is more stable and accurate at the cost of\n",
       "       complexity.\n",
       "\n",
       "    •  \u001b[36mgrid_align\u001b[39m: The grid alignment types. See \u001b[36mCenterAlignedGrid()\u001b[39m and\n",
       "       \u001b[36mEdgeAlignedGrid()\u001b[39m.\n",
       "\n",
       "    •  \u001b[36muse_ODAE\u001b[39m: If \u001b[36mtrue\u001b[39m, the discretization will use the \u001b[36mODAEproblem\u001b[39m\n",
       "       constructor. Defaults to \u001b[36mfalse\u001b[39m.\n",
       "\n",
       "    •  \u001b[36mkwargs\u001b[39m: Any other keyword arguments you want to pass to the\n",
       "       \u001b[36mODEProblem\u001b[39m."
      ]
     },
     "execution_count": 11,
     "metadata": {},
     "output_type": "execute_result"
    }
   ],
   "source": [
    "?MOLFiniteDifference"
   ]
  },
  {
   "cell_type": "code",
   "execution_count": 16,
   "id": "d95396e0",
   "metadata": {},
   "outputs": [
    {
     "data": {
      "text/latex": [
       "$$ \\begin{align}\n",
       "\\frac{\\mathrm{d}}{\\mathrm{d}y} \\frac{\\mathrm{d}}{\\mathrm{d}y} u\\left( x, y \\right) + \\frac{\\mathrm{d}}{\\mathrm{d}x} \\frac{\\mathrm{d}}{\\mathrm{d}x} u\\left( x, y \\right) =& 0\n",
       "\\end{align}\n",
       " $$"
      ],
      "text/plain": [
       "PDESystem\n",
       "Equations: Equation[Differential(y)(Differential(y)(u(x, y))) + Differential(x)(Differential(x)(u(x, y))) ~ 0]\n",
       "Boundary Conditions: Equation[u(x, 0) ~ 0.0, u(x, 1) ~ 1.0, u(0, y) ~ 0.0, u(1, y) ~ 0.0]\n",
       "Domain: Symbolics.VarDomainPairing[Symbolics.VarDomainPairing(x, 0.0 .. 1.0), Symbolics.VarDomainPairing(y, 0.0 .. 1.0)]\n",
       "Dependent Variables: Symbolics.CallWithMetadata{SymbolicUtils.FnType{Tuple, Real}, Base.ImmutableDict{DataType, Any}}[u⋆]\n",
       "Independent Variables: Num[x, y]\n",
       "Parameters: SciMLBase.NullParameters()\n",
       "Default Parameter ValuesDict{Any, Any}()"
      ]
     },
     "execution_count": 16,
     "metadata": {},
     "output_type": "execute_result"
    }
   ],
   "source": [
    "@variables x y u(..) \n",
    "Dxx = Differential(x)^2\n",
    "Dyy = Differential(y)^2\n",
    "\n",
    "# Poisson equation\n",
    "# -8*π^2*sin(2*π*x)*sin(2*π*y) - 8*π^2*sin(32*π*x)*sin(32*π*y) \n",
    "eq = Dxx(u(x, y)) + Dyy(u(x, y)) ~ 0\n",
    "\n",
    "dirichlet_bcs = [\n",
    "    u(x, 0) ~ 0., # bottom\n",
    "    u(x, 1) ~ 1., # top\n",
    "    u(0, y) ~ 0., # left\n",
    "    u(1, y) ~ 0.] # right\n",
    "\n",
    "domains = [\n",
    "    x ∈ (0.0, 1.0),\n",
    "    y ∈ (0.0, 1.0)]\n",
    "\n",
    "@named poisson = PDESystem(\n",
    "    eq, dirichlet_bcs, domains, [x, y], [u])"
   ]
  },
  {
   "cell_type": "code",
   "execution_count": 10,
   "id": "42ce5a8d",
   "metadata": {},
   "outputs": [
    {
     "ename": "LoadError",
     "evalue": "Sym doesn't have a operation or arguments!",
     "output_type": "error",
     "traceback": [
      "Sym doesn't have a operation or arguments!",
      "",
      "Stacktrace:",
      "  [1] error(s::String)",
      "    @ Base ./error.jl:35",
      "  [2] error_sym()",
      "    @ SymbolicUtils ~/.julia/packages/SymbolicUtils/ssQsQ/src/types.jl:78",
      "  [3] operation",
      "    @ ~/.julia/packages/SymbolicUtils/ssQsQ/src/types.jl:108 [inlined]",
      "  [4] operation(x::Symbolics.CallWithMetadata{SymbolicUtils.FnType{Tuple, Real}, Base.ImmutableDict{DataType, Any}})",
      "    @ Symbolics ~/.julia/packages/Symbolics/gBKZv/src/variable.jl:240",
      "  [5] chain_flatten_array_variables(dvs::Vector{Symbolics.CallWithMetadata{SymbolicUtils.FnType{Tuple, Real}, Base.ImmutableDict{DataType, Any}}})",
      "    @ PDEBase ~/.julia/packages/PDEBase/jX5Yp/src/make_pdesys_compatible.jl:6",
      "  [6] make_pdesys_compatible(pdesys::PDESystem)",
      "    @ PDEBase ~/.julia/packages/PDEBase/jX5Yp/src/make_pdesys_compatible.jl:32",
      "  [7] symbolic_discretize(pdesys::PDESystem, discretization::MOLFiniteDifference{MethodOfLines.CenterAlignedGrid, MethodOfLines.ScalarizedDiscretization})",
      "    @ PDEBase ~/.julia/packages/PDEBase/jX5Yp/src/symbolic_discretize.jl:10",
      "  [8] discretize(pdesys::PDESystem, discretization::MOLFiniteDifference{MethodOfLines.CenterAlignedGrid, MethodOfLines.ScalarizedDiscretization}; analytic::Nothing, kwargs::Base.Pairs{Symbol, Union{}, Tuple{}, NamedTuple{(), Tuple{}}})",
      "    @ PDEBase ~/.julia/packages/PDEBase/jX5Yp/src/discretization_state.jl:58",
      "  [9] discretize(pdesys::PDESystem, discretization::MOLFiniteDifference{MethodOfLines.CenterAlignedGrid, MethodOfLines.ScalarizedDiscretization})",
      "    @ PDEBase ~/.julia/packages/PDEBase/jX5Yp/src/discretization_state.jl:55",
      " [10] top-level scope",
      "    @ In[10]:2"
     ]
    }
   ],
   "source": [
    "discretizer = MOLFiniteDifference([x=>0.01, y=>0.01])\n",
    "disc_system = discretize(poisson, discretizer)"
   ]
  },
  {
   "cell_type": "code",
   "execution_count": 15,
   "id": "1825fffe",
   "metadata": {},
   "outputs": [
    {
     "name": "stdout",
     "output_type": "stream",
     "text": [
      "search: \u001b[0m\u001b[1mM\u001b[22m\u001b[0m\u001b[1mO\u001b[22m\u001b[0m\u001b[1mL\u001b[22m\u001b[0m\u001b[1mF\u001b[22m\u001b[0m\u001b[1mi\u001b[22m\u001b[0m\u001b[1mn\u001b[22m\u001b[0m\u001b[1mi\u001b[22m\u001b[0m\u001b[1mt\u001b[22m\u001b[0m\u001b[1me\u001b[22m\u001b[0m\u001b[1mD\u001b[22m\u001b[0m\u001b[1mi\u001b[22m\u001b[0m\u001b[1mf\u001b[22m\u001b[0m\u001b[1mf\u001b[22m\u001b[0m\u001b[1me\u001b[22m\u001b[0m\u001b[1mr\u001b[22m\u001b[0m\u001b[1me\u001b[22m\u001b[0m\u001b[1mn\u001b[22m\u001b[0m\u001b[1mc\u001b[22m\u001b[0m\u001b[1me\u001b[22m\n",
      "\n"
     ]
    },
    {
     "data": {
      "text/latex": [
       "\\begin{verbatim}\n",
       "MOLFiniteDifference(dxs, time=nothing;\n",
       "                    approx_order = 2, advection_scheme = UpwindScheme(),\n",
       "                    grid_align = CenterAlignedGrid(), kwargs...)\n",
       "\\end{verbatim}\n",
       "A discretization algorithm.\n",
       "\n",
       "\\subsection{Arguments}\n",
       "\\begin{itemize}\n",
       "\\item \\texttt{dxs}: A vector of pairs of parameters to the grid step in this dimension, i.e. \\texttt{[x=>0.2, y=>0.1]}.   For a non-uniform rectilinear grid, replace any or all of the step sizes with the grid you'd like to   use with that variable, must be an \\texttt{AbstractVector} but not a \\texttt{StepRangeLen}.\n",
       "\n",
       "\n",
       "\\item \\texttt{time}: Your choice of continuous variable, usually time. If \\texttt{time = nothing}, then discretization   yields a \\texttt{NonlinearProblem}. Defaults to \\texttt{nothing}.\n",
       "\n",
       "\\end{itemize}\n",
       "\\subsection{Keyword Arguments}\n",
       "\\begin{itemize}\n",
       "\\item \\texttt{approx\\_order}: The order of the derivative approximation.\n",
       "\n",
       "\n",
       "\\item \\texttt{advection\\_scheme}: The scheme to be used to discretize advection terms, i.e. first order spatial derivatives and associated coefficients. Defaults to \\texttt{UpwindScheme()}. WENOScheme() is also available, and is more stable and accurate at the cost of complexity.\n",
       "\n",
       "\n",
       "\\item \\texttt{grid\\_align}: The grid alignment types. See \\href{@ref}{\\texttt{CenterAlignedGrid()}} and \\href{@ref}{\\texttt{EdgeAlignedGrid()}}.\n",
       "\n",
       "\n",
       "\\item \\texttt{use\\_ODAE}: If \\texttt{true}, the discretization will use the \\texttt{ODAEproblem} constructor.   Defaults to \\texttt{false}.\n",
       "\n",
       "\n",
       "\\item \\texttt{kwargs}: Any other keyword arguments you want to pass to the \\texttt{ODEProblem}.\n",
       "\n",
       "\\end{itemize}\n"
      ],
      "text/markdown": [
       "```\n",
       "MOLFiniteDifference(dxs, time=nothing;\n",
       "                    approx_order = 2, advection_scheme = UpwindScheme(),\n",
       "                    grid_align = CenterAlignedGrid(), kwargs...)\n",
       "```\n",
       "\n",
       "A discretization algorithm.\n",
       "\n",
       "## Arguments\n",
       "\n",
       "  * `dxs`: A vector of pairs of parameters to the grid step in this dimension, i.e. `[x=>0.2, y=>0.1]`.   For a non-uniform rectilinear grid, replace any or all of the step sizes with the grid you'd like to   use with that variable, must be an `AbstractVector` but not a `StepRangeLen`.\n",
       "  * `time`: Your choice of continuous variable, usually time. If `time = nothing`, then discretization   yields a `NonlinearProblem`. Defaults to `nothing`.\n",
       "\n",
       "## Keyword Arguments\n",
       "\n",
       "  * `approx_order`: The order of the derivative approximation.\n",
       "  * `advection_scheme`: The scheme to be used to discretize advection terms, i.e. first order spatial derivatives and associated coefficients. Defaults to `UpwindScheme()`. WENOScheme() is also available, and is more stable and accurate at the cost of complexity.\n",
       "  * `grid_align`: The grid alignment types. See [`CenterAlignedGrid()`](@ref) and [`EdgeAlignedGrid()`](@ref).\n",
       "  * `use_ODAE`: If `true`, the discretization will use the `ODAEproblem` constructor.   Defaults to `false`.\n",
       "  * `kwargs`: Any other keyword arguments you want to pass to the `ODEProblem`.\n"
      ],
      "text/plain": [
       "\u001b[36m  MOLFiniteDifference(dxs, time=nothing;\u001b[39m\n",
       "\u001b[36m                      approx_order = 2, advection_scheme = UpwindScheme(),\u001b[39m\n",
       "\u001b[36m                      grid_align = CenterAlignedGrid(), kwargs...)\u001b[39m\n",
       "\n",
       "  A discretization algorithm.\n",
       "\n",
       "\u001b[1m  Arguments\u001b[22m\n",
       "\u001b[1m  ===========\u001b[22m\n",
       "\n",
       "    •  \u001b[36mdxs\u001b[39m: A vector of pairs of parameters to the grid step in this\n",
       "       dimension, i.e. \u001b[36m[x=>0.2, y=>0.1]\u001b[39m. For a non-uniform rectilinear\n",
       "       grid, replace any or all of the step sizes with the grid you'd\n",
       "       like to use with that variable, must be an \u001b[36mAbstractVector\u001b[39m but not\n",
       "       a \u001b[36mStepRangeLen\u001b[39m.\n",
       "\n",
       "    •  \u001b[36mtime\u001b[39m: Your choice of continuous variable, usually time. If \u001b[36mtime =\n",
       "       nothing\u001b[39m, then discretization yields a \u001b[36mNonlinearProblem\u001b[39m. Defaults\n",
       "       to \u001b[36mnothing\u001b[39m.\n",
       "\n",
       "\u001b[1m  Keyword Arguments\u001b[22m\n",
       "\u001b[1m  ===================\u001b[22m\n",
       "\n",
       "    •  \u001b[36mapprox_order\u001b[39m: The order of the derivative approximation.\n",
       "\n",
       "    •  \u001b[36madvection_scheme\u001b[39m: The scheme to be used to discretize advection\n",
       "       terms, i.e. first order spatial derivatives and associated\n",
       "       coefficients. Defaults to \u001b[36mUpwindScheme()\u001b[39m. WENOScheme() is also\n",
       "       available, and is more stable and accurate at the cost of\n",
       "       complexity.\n",
       "\n",
       "    •  \u001b[36mgrid_align\u001b[39m: The grid alignment types. See \u001b[36mCenterAlignedGrid()\u001b[39m and\n",
       "       \u001b[36mEdgeAlignedGrid()\u001b[39m.\n",
       "\n",
       "    •  \u001b[36muse_ODAE\u001b[39m: If \u001b[36mtrue\u001b[39m, the discretization will use the \u001b[36mODAEproblem\u001b[39m\n",
       "       constructor. Defaults to \u001b[36mfalse\u001b[39m.\n",
       "\n",
       "    •  \u001b[36mkwargs\u001b[39m: Any other keyword arguments you want to pass to the\n",
       "       \u001b[36mODEProblem\u001b[39m."
      ]
     },
     "execution_count": 15,
     "metadata": {},
     "output_type": "execute_result"
    }
   ],
   "source": [
    "?MOLFiniteDifference"
   ]
  },
  {
   "cell_type": "code",
   "execution_count": null,
   "id": "b39afc96",
   "metadata": {},
   "outputs": [],
   "source": []
  }
 ],
 "metadata": {
  "@webio": {
   "lastCommId": null,
   "lastKernelId": null
  },
  "kernelspec": {
   "display_name": "Julia 1.9.0",
   "language": "julia",
   "name": "julia-1.9"
  },
  "language_info": {
   "file_extension": ".jl",
   "mimetype": "application/julia",
   "name": "julia",
   "version": "1.9.0"
  }
 },
 "nbformat": 4,
 "nbformat_minor": 5
}
